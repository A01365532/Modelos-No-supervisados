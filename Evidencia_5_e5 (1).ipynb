{
 "cells": [
  {
   "cell_type": "markdown",
   "id": "aa84abab",
   "metadata": {},
   "source": [
    "#### 1. Se importan las librerías para cargar y guardar los datos"
   ]
  },
  {
   "cell_type": "code",
   "execution_count": 141,
   "id": "fce77568",
   "metadata": {},
   "outputs": [],
   "source": [
    "import mysql.connector\n",
    "import pandas as pd\n",
    "import numpy as np\n",
    "import seaborn as sns\n",
    "from datetime import datetime\n",
    "from sklearn.preprocessing import MinMaxScaler\n",
    "from config import *\n",
    "from sklearn.cluster import KMeans \n",
    "import seaborn as sns\n",
    "from sklearn.preprocessing import MinMaxScaler\n",
    "from matplotlib import pyplot as plt\n",
    "import plotly.express as px"
   ]
  },
  {
   "cell_type": "markdown",
   "id": "3034eea2",
   "metadata": {},
   "source": [
    "#### 2. Se importan los datos conectando python con mysql\n",
    "En este paso, se crea el dataset que funcionará como base para crear el dataframe a utilizar para entrenar modelos."
   ]
  },
  {
   "cell_type": "code",
   "execution_count": 2,
   "id": "efaec02d",
   "metadata": {},
   "outputs": [],
   "source": [
    "class data_import(object):\n",
    "    #=======================================\n",
    "    #SQL connection\n",
    "    def get_dwh_con(self):\n",
    "        config = {\n",
    "            \"user\":username,\n",
    "            \"password\":secret_key,\n",
    "            \"host\":\"topline.dwh.suite.ghp.mx\",\n",
    "            \"database\":\"dwh\",\n",
    "            \"raise_on_warnings\":True,\n",
    "        }\n",
    "        cnx = mysql.connector.connect(**config)\n",
    "        self.cnx = cnx\n",
    "        return cnx\n",
    "    \n",
    "    #=======================================\n",
    "    #dwh_market_daily function\n",
    "    def get_dwh(self):\n",
    "        #-----------------------------------\n",
    "        #The self.cnx variable is renamed\n",
    "        #cnx = self.get_dwh_con()\n",
    "        cnx = self.cnx\n",
    "        #-----------------------------------\n",
    "        #The tables are imported\n",
    "        venues = pd.read_sql_query('SELECT * from dwh.DM_Venues', cnx)\n",
    "        venues.drop(['longitude', 'latitude'], axis=1, inplace=True) #columns dropped\n",
    "        bdates = pd.read_sql_query('SELECT * from dwh.DM_Business_Dates', cnx)\n",
    "        regions = pd.read_sql_query('SELECT * from dwh.DM_Regions', cnx)\n",
    "        cities = pd.read_sql_query('SELECT * from dwh.DM_Cities', cnx)\n",
    "        states = pd.read_sql_query('SELECT * from dwh.DM_States', cnx)\n",
    "        nights = pd.read_sql_query('SELECT * from dwh.FT_Nights', cnx)\n",
    "        #-----------------------------------\n",
    "        #Merge dataframes and rename some key columns to match the API data.\n",
    "        city_region = pd.merge(cities, states, on='state_id', how='inner')\n",
    "        city_region = city_region.rename(columns={'name_x': 'city', 'name_y': 'state'})\n",
    "        venues = pd.merge(venues, city_region, on='city_id', how='inner')\n",
    "        venues = venues.rename(columns={'incode': 'venue_code'})\n",
    "        df_venues_id = venues[['venue_id', 'venue_code', \n",
    "                               'state', 'state_id', 'country_id']]\n",
    "        #-----------------------------------\n",
    "        #Creation of dwh_market_daily\n",
    "        market_daily = pd.merge(nights, bdates, on='business_date_id', how='outer')\n",
    "        market_daily = pd.merge(market_daily, df_venues_id, on='venue_id', how='inner')\n",
    "        dwh_market_daily = market_daily.rename(columns={'business_date': 'date'})\n",
    "        dwh = dwh_market_daily.copy()\n",
    "        #-----------------------------------\n",
    "        #Changing datetime to string from dwh to make a merge\n",
    "        l = []\n",
    "        for i in range(len(dwh)):\n",
    "            l.append(dwh.loc[i, \"date\"].strftime('%Y-%m-%d'))\n",
    "        dwh[\"date\"] = l\n",
    "        #-----------------------------------\n",
    "        #Creation of new variable\n",
    "        dwh[\"ocr\"] = dwh[\"rooms_occupied\"]/dwh[\"rooms_available\"]\n",
    "        #-----------------------------------\n",
    "        #Filtering the dataset based on found == 1\n",
    "        dwh = dwh[dwh[\"found\"]==1]\n",
    "        #-----------------------------------\n",
    "        #Return of results\n",
    "        self.dwh = dwh\n",
    "        return dwh\n",
    "    \n",
    "    #=======================================\n",
    "    #Hospital data function\n",
    "    def hospital_data(self):\n",
    "        hocc = pd.read_csv(\"http://archivos.serendipiadata.com/ocupacion/concentrado/ocupacion_hospitalaria_Entidad_sin_ceros.csv\", \n",
    "                            encoding = 'UTF-8')\n",
    "        hocc = hocc.rename(columns={'Estado': 'state', '% Ocupación': 'hocc', \n",
    "                                    'FECHA': 'date', 'Tipo': 'type', 'Pob_Total': 'population'})\n",
    "        hocc[\"hocc\"] = hocc[\"hocc\"]/100\n",
    "        #-----------------------------------\n",
    "        #México is replaced with Estado de México like in dwh_market_daily\n",
    "        for i in range(len(hocc)):\n",
    "            if hocc.loc[i, \"state\"] == \"México\":\n",
    "                hocc.loc[i, \"state\"] = \"Estado de México\"\n",
    "        #-----------------------------------\n",
    "        #Return of results\n",
    "        self.hocc = hocc\n",
    "        return hocc\n",
    "    \n",
    "    #=======================================\n",
    "    #Merge of hocc and dwh based on state and date\n",
    "    def get_merge(self):\n",
    "        #-----------------------------------\n",
    "        #Datasets are called\n",
    "        #hocc = self.hospital_data()\n",
    "        hocc = self.hocc\n",
    "        dwh = self.dwh\n",
    "        #dwh = self.get_dwh()\n",
    "        #-----------------------------------\n",
    "        #Changing datetime to string from dwh to make a merge\n",
    "        #l = []\n",
    "        #for i in range(len(dwh)):\n",
    "            #l.append(dwh.loc[i, \"date\"].strftime('%Y-%m-%d'))\n",
    "        #dwh[\"date\"] = l\n",
    "        #-----------------------------------\n",
    "        #Filter hocc dataset based on type==General\n",
    "        hocc = hocc[hocc[\"type\"] == \"General\"]\n",
    "        #-----------------------------------\n",
    "        #Merge of dwh and hocc\n",
    "        dwh_hocc = pd.merge(dwh, hocc, on=[\"date\", \"state\"], how='inner')\n",
    "        #-----------------------------------\n",
    "        #Change of date from string to datetime\n",
    "        #for j in range(len(dwh_hocc)):\n",
    "            #dwh_hocc.loc[j,\"date\"] = datetime.strptime(dwh_hocc.loc[j,\"date\"], \"%Y-%m-%d\")\n",
    "        #-----------------------------------\n",
    "        #Return of results\n",
    "        return dwh_hocc"
   ]
  },
  {
   "cell_type": "markdown",
   "id": "cdd7724c",
   "metadata": {},
   "source": [
    "#### Merged data and analysis"
   ]
  },
  {
   "cell_type": "code",
   "execution_count": 3,
   "id": "9a012721",
   "metadata": {},
   "outputs": [],
   "source": [
    "D = data_import() #object with class"
   ]
  },
  {
   "cell_type": "code",
   "execution_count": 4,
   "id": "e022d6bf",
   "metadata": {},
   "outputs": [
    {
     "data": {
      "text/plain": [
       "<mysql.connector.connection.MySQLConnection at 0x1d2c6541af0>"
      ]
     },
     "execution_count": 4,
     "metadata": {},
     "output_type": "execute_result"
    }
   ],
   "source": [
    "D.get_dwh_con() #stablish connection"
   ]
  },
  {
   "cell_type": "markdown",
   "id": "a7b7f895",
   "metadata": {},
   "source": [
    "* We need to run the following codes in order to get the main dataset (df)"
   ]
  },
  {
   "cell_type": "code",
   "execution_count": 5,
   "id": "bf0f379d",
   "metadata": {},
   "outputs": [
    {
     "name": "stderr",
     "output_type": "stream",
     "text": [
      "C:\\Users\\vmhue\\OneDrive\\Documentos\\Anaconda\\lib\\site-packages\\pandas\\io\\sql.py:761: UserWarning: pandas only support SQLAlchemy connectable(engine/connection) ordatabase string URI or sqlite3 DBAPI2 connectionother DBAPI2 objects are not tested, please consider using SQLAlchemy\n",
      "  warnings.warn(\n",
      "C:\\Users\\vmhue\\OneDrive\\Documentos\\Anaconda\\lib\\site-packages\\pandas\\io\\sql.py:761: UserWarning: pandas only support SQLAlchemy connectable(engine/connection) ordatabase string URI or sqlite3 DBAPI2 connectionother DBAPI2 objects are not tested, please consider using SQLAlchemy\n",
      "  warnings.warn(\n",
      "C:\\Users\\vmhue\\OneDrive\\Documentos\\Anaconda\\lib\\site-packages\\pandas\\io\\sql.py:761: UserWarning: pandas only support SQLAlchemy connectable(engine/connection) ordatabase string URI or sqlite3 DBAPI2 connectionother DBAPI2 objects are not tested, please consider using SQLAlchemy\n",
      "  warnings.warn(\n",
      "C:\\Users\\vmhue\\OneDrive\\Documentos\\Anaconda\\lib\\site-packages\\pandas\\io\\sql.py:761: UserWarning: pandas only support SQLAlchemy connectable(engine/connection) ordatabase string URI or sqlite3 DBAPI2 connectionother DBAPI2 objects are not tested, please consider using SQLAlchemy\n",
      "  warnings.warn(\n",
      "C:\\Users\\vmhue\\OneDrive\\Documentos\\Anaconda\\lib\\site-packages\\pandas\\io\\sql.py:761: UserWarning: pandas only support SQLAlchemy connectable(engine/connection) ordatabase string URI or sqlite3 DBAPI2 connectionother DBAPI2 objects are not tested, please consider using SQLAlchemy\n",
      "  warnings.warn(\n",
      "C:\\Users\\vmhue\\OneDrive\\Documentos\\Anaconda\\lib\\site-packages\\pandas\\io\\sql.py:761: UserWarning: pandas only support SQLAlchemy connectable(engine/connection) ordatabase string URI or sqlite3 DBAPI2 connectionother DBAPI2 objects are not tested, please consider using SQLAlchemy\n",
      "  warnings.warn(\n"
     ]
    }
   ],
   "source": [
    "dwh = D.get_dwh() #get the dwh data"
   ]
  },
  {
   "cell_type": "code",
   "execution_count": 6,
   "id": "6405dcc9",
   "metadata": {},
   "outputs": [],
   "source": [
    "hocc = D.hospital_data()"
   ]
  },
  {
   "cell_type": "markdown",
   "id": "ed8fe8d3",
   "metadata": {},
   "source": [
    "* We get the merged data"
   ]
  },
  {
   "cell_type": "code",
   "execution_count": 7,
   "id": "beda96af",
   "metadata": {},
   "outputs": [],
   "source": [
    "df = D.get_merge()"
   ]
  },
  {
   "cell_type": "code",
   "execution_count": 8,
   "id": "c1e3b4a5",
   "metadata": {},
   "outputs": [
    {
     "data": {
      "text/html": [
       "<div>\n",
       "<style scoped>\n",
       "    .dataframe tbody tr th:only-of-type {\n",
       "        vertical-align: middle;\n",
       "    }\n",
       "\n",
       "    .dataframe tbody tr th {\n",
       "        vertical-align: top;\n",
       "    }\n",
       "\n",
       "    .dataframe thead th {\n",
       "        text-align: right;\n",
       "    }\n",
       "</style>\n",
       "<table border=\"1\" class=\"dataframe\">\n",
       "  <thead>\n",
       "    <tr style=\"text-align: right;\">\n",
       "      <th></th>\n",
       "      <th>night_id</th>\n",
       "      <th>venue_id</th>\n",
       "      <th>business_date_id</th>\n",
       "      <th>found</th>\n",
       "      <th>rooms_available</th>\n",
       "      <th>rooms_occupied</th>\n",
       "      <th>rooms_revenue</th>\n",
       "      <th>compset_rooms_available</th>\n",
       "      <th>compset_rooms_occupied</th>\n",
       "      <th>compset_rooms_revenue</th>\n",
       "      <th>...</th>\n",
       "      <th>quarter</th>\n",
       "      <th>semester</th>\n",
       "      <th>venue_code</th>\n",
       "      <th>state</th>\n",
       "      <th>state_id</th>\n",
       "      <th>country_id</th>\n",
       "      <th>ocr</th>\n",
       "      <th>hocc</th>\n",
       "      <th>type</th>\n",
       "      <th>population</th>\n",
       "    </tr>\n",
       "  </thead>\n",
       "  <tbody>\n",
       "    <tr>\n",
       "      <th>26680</th>\n",
       "      <td>46745</td>\n",
       "      <td>40</td>\n",
       "      <td>19143</td>\n",
       "      <td>1</td>\n",
       "      <td>129</td>\n",
       "      <td>42</td>\n",
       "      <td>27305.26</td>\n",
       "      <td>593</td>\n",
       "      <td>254</td>\n",
       "      <td>166217.22</td>\n",
       "      <td>...</td>\n",
       "      <td>2</td>\n",
       "      <td>1</td>\n",
       "      <td>TLUMI</td>\n",
       "      <td>Estado de México</td>\n",
       "      <td>15</td>\n",
       "      <td>1</td>\n",
       "      <td>0.325581</td>\n",
       "      <td>0.0089</td>\n",
       "      <td>General</td>\n",
       "      <td>9501243</td>\n",
       "    </tr>\n",
       "    <tr>\n",
       "      <th>26681</th>\n",
       "      <td>47627</td>\n",
       "      <td>41</td>\n",
       "      <td>19143</td>\n",
       "      <td>1</td>\n",
       "      <td>268</td>\n",
       "      <td>110</td>\n",
       "      <td>130231.37</td>\n",
       "      <td>803</td>\n",
       "      <td>353</td>\n",
       "      <td>348472.23</td>\n",
       "      <td>...</td>\n",
       "      <td>2</td>\n",
       "      <td>1</td>\n",
       "      <td>TLUZO</td>\n",
       "      <td>Estado de México</td>\n",
       "      <td>15</td>\n",
       "      <td>1</td>\n",
       "      <td>0.410448</td>\n",
       "      <td>0.0089</td>\n",
       "      <td>General</td>\n",
       "      <td>9501243</td>\n",
       "    </tr>\n",
       "    <tr>\n",
       "      <th>26682</th>\n",
       "      <td>45864</td>\n",
       "      <td>39</td>\n",
       "      <td>19144</td>\n",
       "      <td>1</td>\n",
       "      <td>127</td>\n",
       "      <td>72</td>\n",
       "      <td>79310.55</td>\n",
       "      <td>621</td>\n",
       "      <td>269</td>\n",
       "      <td>292269.09</td>\n",
       "      <td>...</td>\n",
       "      <td>2</td>\n",
       "      <td>1</td>\n",
       "      <td>TLUDR</td>\n",
       "      <td>Estado de México</td>\n",
       "      <td>15</td>\n",
       "      <td>1</td>\n",
       "      <td>0.566929</td>\n",
       "      <td>0.0067</td>\n",
       "      <td>General</td>\n",
       "      <td>9501243</td>\n",
       "    </tr>\n",
       "    <tr>\n",
       "      <th>26683</th>\n",
       "      <td>46746</td>\n",
       "      <td>40</td>\n",
       "      <td>19144</td>\n",
       "      <td>1</td>\n",
       "      <td>129</td>\n",
       "      <td>59</td>\n",
       "      <td>42044.32</td>\n",
       "      <td>593</td>\n",
       "      <td>295</td>\n",
       "      <td>195199.11</td>\n",
       "      <td>...</td>\n",
       "      <td>2</td>\n",
       "      <td>1</td>\n",
       "      <td>TLUMI</td>\n",
       "      <td>Estado de México</td>\n",
       "      <td>15</td>\n",
       "      <td>1</td>\n",
       "      <td>0.457364</td>\n",
       "      <td>0.0067</td>\n",
       "      <td>General</td>\n",
       "      <td>9501243</td>\n",
       "    </tr>\n",
       "    <tr>\n",
       "      <th>26684</th>\n",
       "      <td>47628</td>\n",
       "      <td>41</td>\n",
       "      <td>19144</td>\n",
       "      <td>1</td>\n",
       "      <td>268</td>\n",
       "      <td>117</td>\n",
       "      <td>140826.43</td>\n",
       "      <td>803</td>\n",
       "      <td>396</td>\n",
       "      <td>402091.58</td>\n",
       "      <td>...</td>\n",
       "      <td>2</td>\n",
       "      <td>1</td>\n",
       "      <td>TLUZO</td>\n",
       "      <td>Estado de México</td>\n",
       "      <td>15</td>\n",
       "      <td>1</td>\n",
       "      <td>0.436567</td>\n",
       "      <td>0.0067</td>\n",
       "      <td>General</td>\n",
       "      <td>9501243</td>\n",
       "    </tr>\n",
       "  </tbody>\n",
       "</table>\n",
       "<p>5 rows × 32 columns</p>\n",
       "</div>"
      ],
      "text/plain": [
       "       night_id  venue_id  business_date_id  found  rooms_available  \\\n",
       "26680     46745        40             19143      1              129   \n",
       "26681     47627        41             19143      1              268   \n",
       "26682     45864        39             19144      1              127   \n",
       "26683     46746        40             19144      1              129   \n",
       "26684     47628        41             19144      1              268   \n",
       "\n",
       "       rooms_occupied  rooms_revenue  compset_rooms_available  \\\n",
       "26680              42       27305.26                      593   \n",
       "26681             110      130231.37                      803   \n",
       "26682              72       79310.55                      621   \n",
       "26683              59       42044.32                      593   \n",
       "26684             117      140826.43                      803   \n",
       "\n",
       "       compset_rooms_occupied  compset_rooms_revenue  ...  quarter semester  \\\n",
       "26680                     254              166217.22  ...        2        1   \n",
       "26681                     353              348472.23  ...        2        1   \n",
       "26682                     269              292269.09  ...        2        1   \n",
       "26683                     295              195199.11  ...        2        1   \n",
       "26684                     396              402091.58  ...        2        1   \n",
       "\n",
       "       venue_code             state  state_id  country_id       ocr    hocc  \\\n",
       "26680       TLUMI  Estado de México        15           1  0.325581  0.0089   \n",
       "26681       TLUZO  Estado de México        15           1  0.410448  0.0089   \n",
       "26682       TLUDR  Estado de México        15           1  0.566929  0.0067   \n",
       "26683       TLUMI  Estado de México        15           1  0.457364  0.0067   \n",
       "26684       TLUZO  Estado de México        15           1  0.436567  0.0067   \n",
       "\n",
       "          type  population  \n",
       "26680  General     9501243  \n",
       "26681  General     9501243  \n",
       "26682  General     9501243  \n",
       "26683  General     9501243  \n",
       "26684  General     9501243  \n",
       "\n",
       "[5 rows x 32 columns]"
      ]
     },
     "execution_count": 8,
     "metadata": {},
     "output_type": "execute_result"
    }
   ],
   "source": [
    "df.tail()"
   ]
  },
  {
   "cell_type": "markdown",
   "id": "d890e2b0",
   "metadata": {},
   "source": [
    "* We validate that the merge was successful analyzing the last observation of df and comparing with hocc and dwh."
   ]
  },
  {
   "cell_type": "code",
   "execution_count": 9,
   "id": "f4d2e85e",
   "metadata": {},
   "outputs": [
    {
     "data": {
      "text/plain": [
       "'2022-05-31'"
      ]
     },
     "execution_count": 9,
     "metadata": {},
     "output_type": "execute_result"
    }
   ],
   "source": [
    "df.loc[26684, \"date\"] #last observation observation "
   ]
  },
  {
   "cell_type": "code",
   "execution_count": 10,
   "id": "f2145531",
   "metadata": {},
   "outputs": [
    {
     "data": {
      "text/html": [
       "<div>\n",
       "<style scoped>\n",
       "    .dataframe tbody tr th:only-of-type {\n",
       "        vertical-align: middle;\n",
       "    }\n",
       "\n",
       "    .dataframe tbody tr th {\n",
       "        vertical-align: top;\n",
       "    }\n",
       "\n",
       "    .dataframe thead th {\n",
       "        text-align: right;\n",
       "    }\n",
       "</style>\n",
       "<table border=\"1\" class=\"dataframe\">\n",
       "  <thead>\n",
       "    <tr style=\"text-align: right;\">\n",
       "      <th></th>\n",
       "      <th>night_id</th>\n",
       "      <th>venue_id</th>\n",
       "      <th>business_date_id</th>\n",
       "      <th>found</th>\n",
       "      <th>rooms_available</th>\n",
       "      <th>rooms_occupied</th>\n",
       "      <th>rooms_revenue</th>\n",
       "      <th>compset_rooms_available</th>\n",
       "      <th>compset_rooms_occupied</th>\n",
       "      <th>compset_rooms_revenue</th>\n",
       "      <th>...</th>\n",
       "      <th>iso_week_year</th>\n",
       "      <th>month_name</th>\n",
       "      <th>month_name_short</th>\n",
       "      <th>quarter</th>\n",
       "      <th>semester</th>\n",
       "      <th>venue_code</th>\n",
       "      <th>state</th>\n",
       "      <th>state_id</th>\n",
       "      <th>country_id</th>\n",
       "      <th>ocr</th>\n",
       "    </tr>\n",
       "  </thead>\n",
       "  <tbody>\n",
       "    <tr>\n",
       "      <th>47627</th>\n",
       "      <td>47628</td>\n",
       "      <td>41</td>\n",
       "      <td>19144</td>\n",
       "      <td>1</td>\n",
       "      <td>268</td>\n",
       "      <td>117</td>\n",
       "      <td>140826.43</td>\n",
       "      <td>803</td>\n",
       "      <td>396</td>\n",
       "      <td>402091.58</td>\n",
       "      <td>...</td>\n",
       "      <td>2022</td>\n",
       "      <td>May</td>\n",
       "      <td>May</td>\n",
       "      <td>2</td>\n",
       "      <td>1</td>\n",
       "      <td>TLUZO</td>\n",
       "      <td>Estado de México</td>\n",
       "      <td>15</td>\n",
       "      <td>1</td>\n",
       "      <td>0.436567</td>\n",
       "    </tr>\n",
       "  </tbody>\n",
       "</table>\n",
       "<p>1 rows × 29 columns</p>\n",
       "</div>"
      ],
      "text/plain": [
       "       night_id  venue_id  business_date_id  found  rooms_available  \\\n",
       "47627     47628        41             19144      1              268   \n",
       "\n",
       "       rooms_occupied  rooms_revenue  compset_rooms_available  \\\n",
       "47627             117      140826.43                      803   \n",
       "\n",
       "       compset_rooms_occupied  compset_rooms_revenue  ...  iso_week_year  \\\n",
       "47627                     396              402091.58  ...           2022   \n",
       "\n",
       "      month_name  month_name_short  quarter  semester  venue_code  \\\n",
       "47627        May               May        2         1       TLUZO   \n",
       "\n",
       "                  state  state_id  country_id       ocr  \n",
       "47627  Estado de México        15           1  0.436567  \n",
       "\n",
       "[1 rows x 29 columns]"
      ]
     },
     "execution_count": 10,
     "metadata": {},
     "output_type": "execute_result"
    }
   ],
   "source": [
    "dwh[(dwh[\"night_id\"] == 47628) & (dwh[\"date\"]=='2022-05-31')]"
   ]
  },
  {
   "cell_type": "code",
   "execution_count": 11,
   "id": "cce9eaaa",
   "metadata": {},
   "outputs": [
    {
     "data": {
      "text/html": [
       "<div>\n",
       "<style scoped>\n",
       "    .dataframe tbody tr th:only-of-type {\n",
       "        vertical-align: middle;\n",
       "    }\n",
       "\n",
       "    .dataframe tbody tr th {\n",
       "        vertical-align: top;\n",
       "    }\n",
       "\n",
       "    .dataframe thead th {\n",
       "        text-align: right;\n",
       "    }\n",
       "</style>\n",
       "<table border=\"1\" class=\"dataframe\">\n",
       "  <thead>\n",
       "    <tr style=\"text-align: right;\">\n",
       "      <th></th>\n",
       "      <th>state</th>\n",
       "      <th>hocc</th>\n",
       "      <th>date</th>\n",
       "      <th>type</th>\n",
       "      <th>population</th>\n",
       "    </tr>\n",
       "  </thead>\n",
       "  <tbody>\n",
       "    <tr>\n",
       "      <th>68942</th>\n",
       "      <td>Estado de México</td>\n",
       "      <td>0.0067</td>\n",
       "      <td>2022-05-31</td>\n",
       "      <td>General</td>\n",
       "      <td>9501243</td>\n",
       "    </tr>\n",
       "    <tr>\n",
       "      <th>68946</th>\n",
       "      <td>Estado de México</td>\n",
       "      <td>0.0568</td>\n",
       "      <td>2022-05-31</td>\n",
       "      <td>UCI</td>\n",
       "      <td>9501243</td>\n",
       "    </tr>\n",
       "    <tr>\n",
       "      <th>68957</th>\n",
       "      <td>Estado de México</td>\n",
       "      <td>0.0021</td>\n",
       "      <td>2022-05-31</td>\n",
       "      <td>Ventilador</td>\n",
       "      <td>9501243</td>\n",
       "    </tr>\n",
       "  </tbody>\n",
       "</table>\n",
       "</div>"
      ],
      "text/plain": [
       "                  state    hocc        date        type  population\n",
       "68942  Estado de México  0.0067  2022-05-31     General     9501243\n",
       "68946  Estado de México  0.0568  2022-05-31         UCI     9501243\n",
       "68957  Estado de México  0.0021  2022-05-31  Ventilador     9501243"
      ]
     },
     "execution_count": 11,
     "metadata": {},
     "output_type": "execute_result"
    }
   ],
   "source": [
    "hocc[(hocc[\"state\"]==\"Estado de México\") & (hocc[\"date\"]=='2022-05-31')]"
   ]
  },
  {
   "cell_type": "markdown",
   "id": "ed40f9a9",
   "metadata": {},
   "source": [
    "* We analyze df"
   ]
  },
  {
   "cell_type": "code",
   "execution_count": 137,
   "id": "6bdcc5dc",
   "metadata": {},
   "outputs": [
    {
     "data": {
      "image/png": "[encoded data removed]",
      "text/plain": [
       "<Figure size 1440x1080 with 25 Axes>"
      ]
     },
     "metadata": {
      "needs_background": "light"
     },
     "output_type": "display_data"
    }
   ],
   "source": [
    "#Distribution of variables\n",
    "%matplotlib inline\n",
    "import matplotlib.pyplot as plt\n",
    "df.hist(bins=50, figsize=(20,15))\n",
    "plt.show()"
   ]
  },
  {
   "cell_type": "code",
   "execution_count": 14,
   "id": "e4f2d008",
   "metadata": {},
   "outputs": [
    {
     "data": {
      "text/plain": [
       "(26685, 32)"
      ]
     },
     "execution_count": 14,
     "metadata": {},
     "output_type": "execute_result"
    }
   ],
   "source": [
    "df.shape"
   ]
  },
  {
   "cell_type": "code",
   "execution_count": 17,
   "id": "dd1a4bcb",
   "metadata": {
    "scrolled": true
   },
   "outputs": [
    {
     "data": {
      "text/html": [
       "<div>\n",
       "<style scoped>\n",
       "    .dataframe tbody tr th:only-of-type {\n",
       "        vertical-align: middle;\n",
       "    }\n",
       "\n",
       "    .dataframe tbody tr th {\n",
       "        vertical-align: top;\n",
       "    }\n",
       "\n",
       "    .dataframe thead th {\n",
       "        text-align: right;\n",
       "    }\n",
       "</style>\n",
       "<table border=\"1\" class=\"dataframe\">\n",
       "  <thead>\n",
       "    <tr style=\"text-align: right;\">\n",
       "      <th></th>\n",
       "      <th>night_id</th>\n",
       "      <th>venue_id</th>\n",
       "      <th>business_date_id</th>\n",
       "      <th>found</th>\n",
       "      <th>rooms_available</th>\n",
       "      <th>rooms_occupied</th>\n",
       "      <th>rooms_revenue</th>\n",
       "      <th>compset_rooms_available</th>\n",
       "      <th>compset_rooms_occupied</th>\n",
       "      <th>compset_rooms_revenue</th>\n",
       "      <th>...</th>\n",
       "      <th>day_of_year</th>\n",
       "      <th>iso_week_number</th>\n",
       "      <th>iso_week_year</th>\n",
       "      <th>quarter</th>\n",
       "      <th>semester</th>\n",
       "      <th>state_id</th>\n",
       "      <th>country_id</th>\n",
       "      <th>ocr</th>\n",
       "      <th>hocc</th>\n",
       "      <th>population</th>\n",
       "    </tr>\n",
       "  </thead>\n",
       "  <tbody>\n",
       "    <tr>\n",
       "      <th>count</th>\n",
       "      <td>26685.000000</td>\n",
       "      <td>26685.000000</td>\n",
       "      <td>26685.000000</td>\n",
       "      <td>26685.0</td>\n",
       "      <td>26685.000000</td>\n",
       "      <td>26685.000000</td>\n",
       "      <td>2.668500e+04</td>\n",
       "      <td>26685.000000</td>\n",
       "      <td>26685.000000</td>\n",
       "      <td>2.668500e+04</td>\n",
       "      <td>...</td>\n",
       "      <td>26685.000000</td>\n",
       "      <td>26685.000000</td>\n",
       "      <td>26685.000000</td>\n",
       "      <td>26685.000000</td>\n",
       "      <td>26685.000000</td>\n",
       "      <td>26685.000000</td>\n",
       "      <td>26685.0</td>\n",
       "      <td>26500.000000</td>\n",
       "      <td>26685.000000</td>\n",
       "      <td>2.668500e+04</td>\n",
       "    </tr>\n",
       "    <tr>\n",
       "      <th>mean</th>\n",
       "      <td>28762.873150</td>\n",
       "      <td>28.147499</td>\n",
       "      <td>18751.691362</td>\n",
       "      <td>1.0</td>\n",
       "      <td>167.722241</td>\n",
       "      <td>58.507326</td>\n",
       "      <td>7.868654e+04</td>\n",
       "      <td>767.260371</td>\n",
       "      <td>267.051377</td>\n",
       "      <td>3.409242e+05</td>\n",
       "      <td>...</td>\n",
       "      <td>180.815252</td>\n",
       "      <td>26.599400</td>\n",
       "      <td>2020.834814</td>\n",
       "      <td>2.818999</td>\n",
       "      <td>1.648379</td>\n",
       "      <td>15.344950</td>\n",
       "      <td>1.0</td>\n",
       "      <td>0.364613</td>\n",
       "      <td>0.305094</td>\n",
       "      <td>3.850169e+06</td>\n",
       "    </tr>\n",
       "    <tr>\n",
       "      <th>std</th>\n",
       "      <td>12895.220834</td>\n",
       "      <td>12.893492</td>\n",
       "      <td>219.527333</td>\n",
       "      <td>0.0</td>\n",
       "      <td>51.950423</td>\n",
       "      <td>46.393136</td>\n",
       "      <td>7.700685e+04</td>\n",
       "      <td>265.967493</td>\n",
       "      <td>183.896155</td>\n",
       "      <td>2.879579e+05</td>\n",
       "      <td>...</td>\n",
       "      <td>104.432300</td>\n",
       "      <td>15.023069</td>\n",
       "      <td>0.695507</td>\n",
       "      <td>1.200637</td>\n",
       "      <td>0.626746</td>\n",
       "      <td>7.208025</td>\n",
       "      <td>0.0</td>\n",
       "      <td>0.283979</td>\n",
       "      <td>0.200314</td>\n",
       "      <td>2.149446e+06</td>\n",
       "    </tr>\n",
       "    <tr>\n",
       "      <th>min</th>\n",
       "      <td>974.000000</td>\n",
       "      <td>4.000000</td>\n",
       "      <td>18354.000000</td>\n",
       "      <td>1.0</td>\n",
       "      <td>0.000000</td>\n",
       "      <td>0.000000</td>\n",
       "      <td>-6.765100e+04</td>\n",
       "      <td>0.000000</td>\n",
       "      <td>0.000000</td>\n",
       "      <td>-3.266100e+03</td>\n",
       "      <td>...</td>\n",
       "      <td>0.000000</td>\n",
       "      <td>1.000000</td>\n",
       "      <td>2020.000000</td>\n",
       "      <td>1.000000</td>\n",
       "      <td>1.000000</td>\n",
       "      <td>1.000000</td>\n",
       "      <td>1.0</td>\n",
       "      <td>0.000000</td>\n",
       "      <td>0.005400</td>\n",
       "      <td>9.526420e+05</td>\n",
       "    </tr>\n",
       "    <tr>\n",
       "      <th>25%</th>\n",
       "      <td>17818.000000</td>\n",
       "      <td>18.000000</td>\n",
       "      <td>18564.000000</td>\n",
       "      <td>1.0</td>\n",
       "      <td>127.000000</td>\n",
       "      <td>27.000000</td>\n",
       "      <td>2.995318e+04</td>\n",
       "      <td>614.000000</td>\n",
       "      <td>137.000000</td>\n",
       "      <td>1.462035e+05</td>\n",
       "      <td>...</td>\n",
       "      <td>96.000000</td>\n",
       "      <td>14.000000</td>\n",
       "      <td>2020.000000</td>\n",
       "      <td>2.000000</td>\n",
       "      <td>1.000000</td>\n",
       "      <td>9.000000</td>\n",
       "      <td>1.0</td>\n",
       "      <td>0.165829</td>\n",
       "      <td>0.147800</td>\n",
       "      <td>2.691472e+06</td>\n",
       "    </tr>\n",
       "    <tr>\n",
       "      <th>50%</th>\n",
       "      <td>29889.000000</td>\n",
       "      <td>29.000000</td>\n",
       "      <td>18752.000000</td>\n",
       "      <td>1.0</td>\n",
       "      <td>178.000000</td>\n",
       "      <td>51.000000</td>\n",
       "      <td>5.971041e+04</td>\n",
       "      <td>782.000000</td>\n",
       "      <td>240.000000</td>\n",
       "      <td>2.719098e+05</td>\n",
       "      <td>...</td>\n",
       "      <td>178.000000</td>\n",
       "      <td>26.000000</td>\n",
       "      <td>2021.000000</td>\n",
       "      <td>3.000000</td>\n",
       "      <td>2.000000</td>\n",
       "      <td>15.000000</td>\n",
       "      <td>1.0</td>\n",
       "      <td>0.320560</td>\n",
       "      <td>0.246300</td>\n",
       "      <td>2.842224e+06</td>\n",
       "    </tr>\n",
       "    <tr>\n",
       "      <th>75%</th>\n",
       "      <td>40445.000000</td>\n",
       "      <td>38.000000</td>\n",
       "      <td>18938.000000</td>\n",
       "      <td>1.0</td>\n",
       "      <td>198.000000</td>\n",
       "      <td>82.000000</td>\n",
       "      <td>1.064012e+05</td>\n",
       "      <td>950.000000</td>\n",
       "      <td>362.000000</td>\n",
       "      <td>4.509438e+05</td>\n",
       "      <td>...</td>\n",
       "      <td>271.000000</td>\n",
       "      <td>40.000000</td>\n",
       "      <td>2021.000000</td>\n",
       "      <td>4.000000</td>\n",
       "      <td>2.000000</td>\n",
       "      <td>19.000000</td>\n",
       "      <td>1.0</td>\n",
       "      <td>0.519481</td>\n",
       "      <td>0.435900</td>\n",
       "      <td>4.154139e+06</td>\n",
       "    </tr>\n",
       "    <tr>\n",
       "      <th>max</th>\n",
       "      <td>48510.000000</td>\n",
       "      <td>60.000000</td>\n",
       "      <td>19144.000000</td>\n",
       "      <td>1.0</td>\n",
       "      <td>1800.000000</td>\n",
       "      <td>940.000000</td>\n",
       "      <td>1.112671e+06</td>\n",
       "      <td>2557.000000</td>\n",
       "      <td>1237.000000</td>\n",
       "      <td>3.117600e+06</td>\n",
       "      <td>...</td>\n",
       "      <td>365.000000</td>\n",
       "      <td>53.000000</td>\n",
       "      <td>2022.000000</td>\n",
       "      <td>5.000000</td>\n",
       "      <td>3.000000</td>\n",
       "      <td>31.000000</td>\n",
       "      <td>1.0</td>\n",
       "      <td>10.555556</td>\n",
       "      <td>1.000000</td>\n",
       "      <td>9.501243e+06</td>\n",
       "    </tr>\n",
       "  </tbody>\n",
       "</table>\n",
       "<p>8 rows × 25 columns</p>\n",
       "</div>"
      ],
      "text/plain": [
       "           night_id      venue_id  business_date_id    found  rooms_available  \\\n",
       "count  26685.000000  26685.000000      26685.000000  26685.0     26685.000000   \n",
       "mean   28762.873150     28.147499      18751.691362      1.0       167.722241   \n",
       "std    12895.220834     12.893492        219.527333      0.0        51.950423   \n",
       "min      974.000000      4.000000      18354.000000      1.0         0.000000   \n",
       "25%    17818.000000     18.000000      18564.000000      1.0       127.000000   \n",
       "50%    29889.000000     29.000000      18752.000000      1.0       178.000000   \n",
       "75%    40445.000000     38.000000      18938.000000      1.0       198.000000   \n",
       "max    48510.000000     60.000000      19144.000000      1.0      1800.000000   \n",
       "\n",
       "       rooms_occupied  rooms_revenue  compset_rooms_available  \\\n",
       "count    26685.000000   2.668500e+04             26685.000000   \n",
       "mean        58.507326   7.868654e+04               767.260371   \n",
       "std         46.393136   7.700685e+04               265.967493   \n",
       "min          0.000000  -6.765100e+04                 0.000000   \n",
       "25%         27.000000   2.995318e+04               614.000000   \n",
       "50%         51.000000   5.971041e+04               782.000000   \n",
       "75%         82.000000   1.064012e+05               950.000000   \n",
       "max        940.000000   1.112671e+06              2557.000000   \n",
       "\n",
       "       compset_rooms_occupied  compset_rooms_revenue  ...   day_of_year  \\\n",
       "count            26685.000000           2.668500e+04  ...  26685.000000   \n",
       "mean               267.051377           3.409242e+05  ...    180.815252   \n",
       "std                183.896155           2.879579e+05  ...    104.432300   \n",
       "min                  0.000000          -3.266100e+03  ...      0.000000   \n",
       "25%                137.000000           1.462035e+05  ...     96.000000   \n",
       "50%                240.000000           2.719098e+05  ...    178.000000   \n",
       "75%                362.000000           4.509438e+05  ...    271.000000   \n",
       "max               1237.000000           3.117600e+06  ...    365.000000   \n",
       "\n",
       "       iso_week_number  iso_week_year       quarter      semester  \\\n",
       "count     26685.000000   26685.000000  26685.000000  26685.000000   \n",
       "mean         26.599400    2020.834814      2.818999      1.648379   \n",
       "std          15.023069       0.695507      1.200637      0.626746   \n",
       "min           1.000000    2020.000000      1.000000      1.000000   \n",
       "25%          14.000000    2020.000000      2.000000      1.000000   \n",
       "50%          26.000000    2021.000000      3.000000      2.000000   \n",
       "75%          40.000000    2021.000000      4.000000      2.000000   \n",
       "max          53.000000    2022.000000      5.000000      3.000000   \n",
       "\n",
       "           state_id  country_id           ocr          hocc    population  \n",
       "count  26685.000000     26685.0  26500.000000  26685.000000  2.668500e+04  \n",
       "mean      15.344950         1.0      0.364613      0.305094  3.850169e+06  \n",
       "std        7.208025         0.0      0.283979      0.200314  2.149446e+06  \n",
       "min        1.000000         1.0      0.000000      0.005400  9.526420e+05  \n",
       "25%        9.000000         1.0      0.165829      0.147800  2.691472e+06  \n",
       "50%       15.000000         1.0      0.320560      0.246300  2.842224e+06  \n",
       "75%       19.000000         1.0      0.519481      0.435900  4.154139e+06  \n",
       "max       31.000000         1.0     10.555556      1.000000  9.501243e+06  \n",
       "\n",
       "[8 rows x 25 columns]"
      ]
     },
     "execution_count": 17,
     "metadata": {},
     "output_type": "execute_result"
    }
   ],
   "source": [
    "df.describe()"
   ]
  },
  {
   "cell_type": "code",
   "execution_count": 91,
   "id": "ba5e9874",
   "metadata": {},
   "outputs": [
    {
     "data": {
      "text/plain": [
       "Index(['rooms_available', 'rooms_occupied', 'rooms_revenue',\n",
       "       'compset_rooms_available', 'compset_rooms_occupied',\n",
       "       'compset_rooms_revenue', 'compset_rooms_revenue', 'hocc'],\n",
       "      dtype='object')"
      ]
     },
     "execution_count": 91,
     "metadata": {},
     "output_type": "execute_result"
    }
   ],
   "source": [
    "df1.columns\n"
   ]
  },
  {
   "cell_type": "code",
   "execution_count": 161,
   "id": "984b7352",
   "metadata": {},
   "outputs": [
    {
     "data": {
      "text/html": [
       "<div>\n",
       "<style scoped>\n",
       "    .dataframe tbody tr th:only-of-type {\n",
       "        vertical-align: middle;\n",
       "    }\n",
       "\n",
       "    .dataframe tbody tr th {\n",
       "        vertical-align: top;\n",
       "    }\n",
       "\n",
       "    .dataframe thead th {\n",
       "        text-align: right;\n",
       "    }\n",
       "</style>\n",
       "<table border=\"1\" class=\"dataframe\">\n",
       "  <thead>\n",
       "    <tr style=\"text-align: right;\">\n",
       "      <th></th>\n",
       "      <th>rooms_available</th>\n",
       "      <th>rooms_occupied</th>\n",
       "      <th>rooms_revenue</th>\n",
       "      <th>compset_rooms_available</th>\n",
       "      <th>compset_rooms_occupied</th>\n",
       "      <th>compset_rooms_revenue</th>\n",
       "      <th>ocr</th>\n",
       "      <th>hocc</th>\n",
       "    </tr>\n",
       "  </thead>\n",
       "  <tbody>\n",
       "    <tr>\n",
       "      <th>count</th>\n",
       "      <td>26685.000000</td>\n",
       "      <td>26685.000000</td>\n",
       "      <td>2.668500e+04</td>\n",
       "      <td>26685.000000</td>\n",
       "      <td>26685.000000</td>\n",
       "      <td>2.668500e+04</td>\n",
       "      <td>26500.000000</td>\n",
       "      <td>26685.000000</td>\n",
       "    </tr>\n",
       "    <tr>\n",
       "      <th>mean</th>\n",
       "      <td>167.722241</td>\n",
       "      <td>58.507326</td>\n",
       "      <td>7.868654e+04</td>\n",
       "      <td>767.260371</td>\n",
       "      <td>267.051377</td>\n",
       "      <td>3.409242e+05</td>\n",
       "      <td>0.364613</td>\n",
       "      <td>0.305094</td>\n",
       "    </tr>\n",
       "    <tr>\n",
       "      <th>std</th>\n",
       "      <td>51.950423</td>\n",
       "      <td>46.393136</td>\n",
       "      <td>7.700685e+04</td>\n",
       "      <td>265.967493</td>\n",
       "      <td>183.896155</td>\n",
       "      <td>2.879579e+05</td>\n",
       "      <td>0.283979</td>\n",
       "      <td>0.200314</td>\n",
       "    </tr>\n",
       "    <tr>\n",
       "      <th>min</th>\n",
       "      <td>0.000000</td>\n",
       "      <td>0.000000</td>\n",
       "      <td>-6.765100e+04</td>\n",
       "      <td>0.000000</td>\n",
       "      <td>0.000000</td>\n",
       "      <td>-3.266100e+03</td>\n",
       "      <td>0.000000</td>\n",
       "      <td>0.005400</td>\n",
       "    </tr>\n",
       "    <tr>\n",
       "      <th>25%</th>\n",
       "      <td>127.000000</td>\n",
       "      <td>27.000000</td>\n",
       "      <td>2.995318e+04</td>\n",
       "      <td>614.000000</td>\n",
       "      <td>137.000000</td>\n",
       "      <td>1.462035e+05</td>\n",
       "      <td>0.165829</td>\n",
       "      <td>0.147800</td>\n",
       "    </tr>\n",
       "    <tr>\n",
       "      <th>50%</th>\n",
       "      <td>178.000000</td>\n",
       "      <td>51.000000</td>\n",
       "      <td>5.971041e+04</td>\n",
       "      <td>782.000000</td>\n",
       "      <td>240.000000</td>\n",
       "      <td>2.719098e+05</td>\n",
       "      <td>0.320560</td>\n",
       "      <td>0.246300</td>\n",
       "    </tr>\n",
       "    <tr>\n",
       "      <th>75%</th>\n",
       "      <td>198.000000</td>\n",
       "      <td>82.000000</td>\n",
       "      <td>1.064012e+05</td>\n",
       "      <td>950.000000</td>\n",
       "      <td>362.000000</td>\n",
       "      <td>4.509438e+05</td>\n",
       "      <td>0.519481</td>\n",
       "      <td>0.435900</td>\n",
       "    </tr>\n",
       "    <tr>\n",
       "      <th>max</th>\n",
       "      <td>1800.000000</td>\n",
       "      <td>940.000000</td>\n",
       "      <td>1.112671e+06</td>\n",
       "      <td>2557.000000</td>\n",
       "      <td>1237.000000</td>\n",
       "      <td>3.117600e+06</td>\n",
       "      <td>10.555556</td>\n",
       "      <td>1.000000</td>\n",
       "    </tr>\n",
       "  </tbody>\n",
       "</table>\n",
       "</div>"
      ],
      "text/plain": [
       "       rooms_available  rooms_occupied  rooms_revenue  \\\n",
       "count     26685.000000    26685.000000   2.668500e+04   \n",
       "mean        167.722241       58.507326   7.868654e+04   \n",
       "std          51.950423       46.393136   7.700685e+04   \n",
       "min           0.000000        0.000000  -6.765100e+04   \n",
       "25%         127.000000       27.000000   2.995318e+04   \n",
       "50%         178.000000       51.000000   5.971041e+04   \n",
       "75%         198.000000       82.000000   1.064012e+05   \n",
       "max        1800.000000      940.000000   1.112671e+06   \n",
       "\n",
       "       compset_rooms_available  compset_rooms_occupied  compset_rooms_revenue  \\\n",
       "count             26685.000000            26685.000000           2.668500e+04   \n",
       "mean                767.260371              267.051377           3.409242e+05   \n",
       "std                 265.967493              183.896155           2.879579e+05   \n",
       "min                   0.000000                0.000000          -3.266100e+03   \n",
       "25%                 614.000000              137.000000           1.462035e+05   \n",
       "50%                 782.000000              240.000000           2.719098e+05   \n",
       "75%                 950.000000              362.000000           4.509438e+05   \n",
       "max                2557.000000             1237.000000           3.117600e+06   \n",
       "\n",
       "                ocr          hocc  \n",
       "count  26500.000000  26685.000000  \n",
       "mean       0.364613      0.305094  \n",
       "std        0.283979      0.200314  \n",
       "min        0.000000      0.005400  \n",
       "25%        0.165829      0.147800  \n",
       "50%        0.320560      0.246300  \n",
       "75%        0.519481      0.435900  \n",
       "max       10.555556      1.000000  "
      ]
     },
     "execution_count": 161,
     "metadata": {},
     "output_type": "execute_result"
    }
   ],
   "source": [
    "df1=df.iloc[:,[4,5,6,7,8,9,28,29]]\n",
    "df1.describe()"
   ]
  },
  {
   "cell_type": "code",
   "execution_count": 162,
   "id": "1be9e525",
   "metadata": {},
   "outputs": [
    {
     "data": {
      "text/plain": [
       "True"
      ]
     },
     "execution_count": 162,
     "metadata": {},
     "output_type": "execute_result"
    }
   ],
   "source": [
    "df1.isnull().values.any()"
   ]
  },
  {
   "cell_type": "code",
   "execution_count": 165,
   "id": "955b6418",
   "metadata": {},
   "outputs": [],
   "source": [
    "df2=df1.dropna()"
   ]
  },
  {
   "cell_type": "code",
   "execution_count": 166,
   "id": "22abd56c",
   "metadata": {},
   "outputs": [
    {
     "data": {
      "text/plain": [
       "False"
      ]
     },
     "execution_count": 166,
     "metadata": {},
     "output_type": "execute_result"
    }
   ],
   "source": [
    "df2.isnull().values.any()"
   ]
  },
  {
   "cell_type": "code",
   "execution_count": 167,
   "id": "ebc393b2",
   "metadata": {},
   "outputs": [
    {
     "data": {
      "text/plain": [
       "array([[<AxesSubplot:title={'center':'rooms_available'}>,\n",
       "        <AxesSubplot:title={'center':'rooms_occupied'}>,\n",
       "        <AxesSubplot:title={'center':'rooms_revenue'}>],\n",
       "       [<AxesSubplot:title={'center':'compset_rooms_available'}>,\n",
       "        <AxesSubplot:title={'center':'compset_rooms_occupied'}>,\n",
       "        <AxesSubplot:title={'center':'compset_rooms_revenue'}>],\n",
       "       [<AxesSubplot:title={'center':'ocr'}>,\n",
       "        <AxesSubplot:title={'center':'hocc'}>, <AxesSubplot:>]],\n",
       "      dtype=object)"
      ]
     },
     "execution_count": 167,
     "metadata": {},
     "output_type": "execute_result"
    },
    {
     "data": {
      "image/png": "[encoded data removed]",
      "text/plain": [
       "<Figure size 432x288 with 9 Axes>"
      ]
     },
     "metadata": {
      "needs_background": "light"
     },
     "output_type": "display_data"
    }
   ],
   "source": [
    "df2.hist()"
   ]
  },
  {
   "cell_type": "markdown",
   "id": "ef10ce41",
   "metadata": {},
   "source": [
    "Escalamos los datos"
   ]
  },
  {
   "cell_type": "code",
   "execution_count": 168,
   "id": "be4f9957",
   "metadata": {},
   "outputs": [],
   "source": [
    "scaler = MinMaxScaler()"
   ]
  },
  {
   "cell_type": "code",
   "execution_count": 169,
   "id": "88121c34",
   "metadata": {},
   "outputs": [],
   "source": [
    "scale =scaler.fit_transform(df2)\n"
   ]
  },
  {
   "cell_type": "code",
   "execution_count": 171,
   "id": "0941c1a5",
   "metadata": {
    "scrolled": true
   },
   "outputs": [
    {
     "data": {
      "text/html": [
       "<div>\n",
       "<style scoped>\n",
       "    .dataframe tbody tr th:only-of-type {\n",
       "        vertical-align: middle;\n",
       "    }\n",
       "\n",
       "    .dataframe tbody tr th {\n",
       "        vertical-align: top;\n",
       "    }\n",
       "\n",
       "    .dataframe thead th {\n",
       "        text-align: right;\n",
       "    }\n",
       "</style>\n",
       "<table border=\"1\" class=\"dataframe\">\n",
       "  <thead>\n",
       "    <tr style=\"text-align: right;\">\n",
       "      <th></th>\n",
       "      <th>rooms_available</th>\n",
       "      <th>rooms_occupied</th>\n",
       "      <th>rooms_revenue</th>\n",
       "      <th>compset_rooms_available</th>\n",
       "      <th>compset_rooms_occupied</th>\n",
       "      <th>compset_rooms_revenue</th>\n",
       "      <th>ocr</th>\n",
       "      <th>hocc</th>\n",
       "    </tr>\n",
       "  </thead>\n",
       "  <tbody>\n",
       "    <tr>\n",
       "      <th>0</th>\n",
       "      <td>0.082543</td>\n",
       "      <td>0.000000</td>\n",
       "      <td>0.057316</td>\n",
       "      <td>0.028317</td>\n",
       "      <td>0.000000</td>\n",
       "      <td>0.001047</td>\n",
       "      <td>0.000000</td>\n",
       "      <td>1.000000</td>\n",
       "    </tr>\n",
       "    <tr>\n",
       "      <th>1</th>\n",
       "      <td>0.103179</td>\n",
       "      <td>0.000000</td>\n",
       "      <td>0.057316</td>\n",
       "      <td>0.282767</td>\n",
       "      <td>0.046888</td>\n",
       "      <td>0.018323</td>\n",
       "      <td>0.000000</td>\n",
       "      <td>1.000000</td>\n",
       "    </tr>\n",
       "    <tr>\n",
       "      <th>2</th>\n",
       "      <td>0.082543</td>\n",
       "      <td>0.000000</td>\n",
       "      <td>0.057316</td>\n",
       "      <td>0.028317</td>\n",
       "      <td>0.000000</td>\n",
       "      <td>0.001047</td>\n",
       "      <td>0.000000</td>\n",
       "      <td>1.000000</td>\n",
       "    </tr>\n",
       "    <tr>\n",
       "      <th>3</th>\n",
       "      <td>0.103179</td>\n",
       "      <td>0.000000</td>\n",
       "      <td>0.057316</td>\n",
       "      <td>0.282767</td>\n",
       "      <td>0.071948</td>\n",
       "      <td>0.025798</td>\n",
       "      <td>0.000000</td>\n",
       "      <td>1.000000</td>\n",
       "    </tr>\n",
       "    <tr>\n",
       "      <th>4</th>\n",
       "      <td>0.082543</td>\n",
       "      <td>0.001064</td>\n",
       "      <td>0.060448</td>\n",
       "      <td>0.028317</td>\n",
       "      <td>0.000808</td>\n",
       "      <td>0.002231</td>\n",
       "      <td>0.000611</td>\n",
       "      <td>0.162075</td>\n",
       "    </tr>\n",
       "    <tr>\n",
       "      <th>...</th>\n",
       "      <td>...</td>\n",
       "      <td>...</td>\n",
       "      <td>...</td>\n",
       "      <td>...</td>\n",
       "      <td>...</td>\n",
       "      <td>...</td>\n",
       "      <td>...</td>\n",
       "      <td>...</td>\n",
       "    </tr>\n",
       "    <tr>\n",
       "      <th>26495</th>\n",
       "      <td>0.068042</td>\n",
       "      <td>0.044681</td>\n",
       "      <td>0.080449</td>\n",
       "      <td>0.205502</td>\n",
       "      <td>0.205335</td>\n",
       "      <td>0.054307</td>\n",
       "      <td>0.030845</td>\n",
       "      <td>0.003519</td>\n",
       "    </tr>\n",
       "    <tr>\n",
       "      <th>26496</th>\n",
       "      <td>0.145566</td>\n",
       "      <td>0.117021</td>\n",
       "      <td>0.167651</td>\n",
       "      <td>0.290453</td>\n",
       "      <td>0.285368</td>\n",
       "      <td>0.112705</td>\n",
       "      <td>0.038885</td>\n",
       "      <td>0.003519</td>\n",
       "    </tr>\n",
       "    <tr>\n",
       "      <th>26497</th>\n",
       "      <td>0.066927</td>\n",
       "      <td>0.076596</td>\n",
       "      <td>0.124510</td>\n",
       "      <td>0.216828</td>\n",
       "      <td>0.217462</td>\n",
       "      <td>0.094697</td>\n",
       "      <td>0.053709</td>\n",
       "      <td>0.001307</td>\n",
       "    </tr>\n",
       "    <tr>\n",
       "      <th>26498</th>\n",
       "      <td>0.068042</td>\n",
       "      <td>0.062766</td>\n",
       "      <td>0.092937</td>\n",
       "      <td>0.205502</td>\n",
       "      <td>0.238480</td>\n",
       "      <td>0.063593</td>\n",
       "      <td>0.043329</td>\n",
       "      <td>0.001307</td>\n",
       "    </tr>\n",
       "    <tr>\n",
       "      <th>26499</th>\n",
       "      <td>0.145566</td>\n",
       "      <td>0.124468</td>\n",
       "      <td>0.176628</td>\n",
       "      <td>0.290453</td>\n",
       "      <td>0.320129</td>\n",
       "      <td>0.129886</td>\n",
       "      <td>0.041359</td>\n",
       "      <td>0.001307</td>\n",
       "    </tr>\n",
       "  </tbody>\n",
       "</table>\n",
       "<p>26500 rows × 8 columns</p>\n",
       "</div>"
      ],
      "text/plain": [
       "       rooms_available  rooms_occupied  rooms_revenue  \\\n",
       "0             0.082543        0.000000       0.057316   \n",
       "1             0.103179        0.000000       0.057316   \n",
       "2             0.082543        0.000000       0.057316   \n",
       "3             0.103179        0.000000       0.057316   \n",
       "4             0.082543        0.001064       0.060448   \n",
       "...                ...             ...            ...   \n",
       "26495         0.068042        0.044681       0.080449   \n",
       "26496         0.145566        0.117021       0.167651   \n",
       "26497         0.066927        0.076596       0.124510   \n",
       "26498         0.068042        0.062766       0.092937   \n",
       "26499         0.145566        0.124468       0.176628   \n",
       "\n",
       "       compset_rooms_available  compset_rooms_occupied  compset_rooms_revenue  \\\n",
       "0                     0.028317                0.000000               0.001047   \n",
       "1                     0.282767                0.046888               0.018323   \n",
       "2                     0.028317                0.000000               0.001047   \n",
       "3                     0.282767                0.071948               0.025798   \n",
       "4                     0.028317                0.000808               0.002231   \n",
       "...                        ...                     ...                    ...   \n",
       "26495                 0.205502                0.205335               0.054307   \n",
       "26496                 0.290453                0.285368               0.112705   \n",
       "26497                 0.216828                0.217462               0.094697   \n",
       "26498                 0.205502                0.238480               0.063593   \n",
       "26499                 0.290453                0.320129               0.129886   \n",
       "\n",
       "            ocr      hocc  \n",
       "0      0.000000  1.000000  \n",
       "1      0.000000  1.000000  \n",
       "2      0.000000  1.000000  \n",
       "3      0.000000  1.000000  \n",
       "4      0.000611  0.162075  \n",
       "...         ...       ...  \n",
       "26495  0.030845  0.003519  \n",
       "26496  0.038885  0.003519  \n",
       "26497  0.053709  0.001307  \n",
       "26498  0.043329  0.001307  \n",
       "26499  0.041359  0.001307  \n",
       "\n",
       "[26500 rows x 8 columns]"
      ]
     },
     "execution_count": 171,
     "metadata": {},
     "output_type": "execute_result"
    }
   ],
   "source": [
    "df_scale = pd.DataFrame(scale, columns = df2.columns)\n",
    "df_scale"
   ]
  },
  {
   "cell_type": "markdown",
   "id": "86387cd2",
   "metadata": {},
   "source": [
    "Aplicamos PCA"
   ]
  },
  {
   "cell_type": "code",
   "execution_count": 172,
   "id": "c064144c",
   "metadata": {},
   "outputs": [],
   "source": [
    "from sklearn.decomposition import PCA\n",
    "from sklearn import preprocessing"
   ]
  },
  {
   "cell_type": "code",
   "execution_count": 173,
   "id": "e1b7d9c1",
   "metadata": {},
   "outputs": [],
   "source": [
    "pca = PCA()"
   ]
  },
  {
   "cell_type": "code",
   "execution_count": 174,
   "id": "6b3ada78",
   "metadata": {},
   "outputs": [
    {
     "data": {
      "text/plain": [
       "PCA()"
      ]
     },
     "execution_count": 174,
     "metadata": {},
     "output_type": "execute_result"
    }
   ],
   "source": [
    "pca.fit(df_scale)"
   ]
  },
  {
   "cell_type": "code",
   "execution_count": 175,
   "id": "3c54d36c",
   "metadata": {},
   "outputs": [
    {
     "data": {
      "text/plain": [
       "array([4.47479327e-02, 3.30916566e-02, 8.45005500e-03, 2.37154490e-03,\n",
       "       1.26330990e-03, 5.22736301e-04, 1.37322808e-04, 5.68953657e-05])"
      ]
     },
     "execution_count": 175,
     "metadata": {},
     "output_type": "execute_result"
    }
   ],
   "source": [
    "pca.explained_variance_"
   ]
  },
  {
   "cell_type": "code",
   "execution_count": 176,
   "id": "af7a8623",
   "metadata": {},
   "outputs": [
    {
     "data": {
      "text/plain": [
       "array([0.49368066, 0.36508303, 0.09322506, 0.02616402, 0.01393744,\n",
       "       0.00576708, 0.00151501, 0.0006277 ])"
      ]
     },
     "execution_count": 176,
     "metadata": {},
     "output_type": "execute_result"
    }
   ],
   "source": [
    "pca.explained_variance_ratio_"
   ]
  },
  {
   "cell_type": "code",
   "execution_count": 177,
   "id": "4dbe5468",
   "metadata": {},
   "outputs": [],
   "source": [
    "components = np.arange(pca.n_components_) + 1\n",
    "variance = pca.explained_variance_ratio_"
   ]
  },
  {
   "cell_type": "code",
   "execution_count": 178,
   "id": "c52502eb",
   "metadata": {},
   "outputs": [
    {
     "data": {
      "text/html": [
       "<div>\n",
       "<style scoped>\n",
       "    .dataframe tbody tr th:only-of-type {\n",
       "        vertical-align: middle;\n",
       "    }\n",
       "\n",
       "    .dataframe tbody tr th {\n",
       "        vertical-align: top;\n",
       "    }\n",
       "\n",
       "    .dataframe thead th {\n",
       "        text-align: right;\n",
       "    }\n",
       "</style>\n",
       "<table border=\"1\" class=\"dataframe\">\n",
       "  <thead>\n",
       "    <tr style=\"text-align: right;\">\n",
       "      <th></th>\n",
       "      <th>Proporción de la varianza</th>\n",
       "      <th>Propoción acumulada</th>\n",
       "    </tr>\n",
       "  </thead>\n",
       "  <tbody>\n",
       "    <tr>\n",
       "      <th>0</th>\n",
       "      <td>0.493681</td>\n",
       "      <td>0.493681</td>\n",
       "    </tr>\n",
       "    <tr>\n",
       "      <th>1</th>\n",
       "      <td>0.365083</td>\n",
       "      <td>0.858764</td>\n",
       "    </tr>\n",
       "    <tr>\n",
       "      <th>2</th>\n",
       "      <td>0.093225</td>\n",
       "      <td>0.951989</td>\n",
       "    </tr>\n",
       "    <tr>\n",
       "      <th>3</th>\n",
       "      <td>0.026164</td>\n",
       "      <td>0.978153</td>\n",
       "    </tr>\n",
       "    <tr>\n",
       "      <th>4</th>\n",
       "      <td>0.013937</td>\n",
       "      <td>0.992090</td>\n",
       "    </tr>\n",
       "    <tr>\n",
       "      <th>5</th>\n",
       "      <td>0.005767</td>\n",
       "      <td>0.997857</td>\n",
       "    </tr>\n",
       "    <tr>\n",
       "      <th>6</th>\n",
       "      <td>0.001515</td>\n",
       "      <td>0.999372</td>\n",
       "    </tr>\n",
       "    <tr>\n",
       "      <th>7</th>\n",
       "      <td>0.000628</td>\n",
       "      <td>1.000000</td>\n",
       "    </tr>\n",
       "  </tbody>\n",
       "</table>\n",
       "</div>"
      ],
      "text/plain": [
       "   Proporción de la varianza  Propoción acumulada\n",
       "0                   0.493681             0.493681\n",
       "1                   0.365083             0.858764\n",
       "2                   0.093225             0.951989\n",
       "3                   0.026164             0.978153\n",
       "4                   0.013937             0.992090\n",
       "5                   0.005767             0.997857\n",
       "6                   0.001515             0.999372\n",
       "7                   0.000628             1.000000"
      ]
     },
     "execution_count": 178,
     "metadata": {},
     "output_type": "execute_result"
    }
   ],
   "source": [
    "pca_summary_df = pd.DataFrame({\"Proporción de la varianza\": pca.explained_variance_ratio_, \"Propoción acumulada\":np.cumsum(pca.explained_variance_ratio_)})\n",
    "pca_summary_df"
   ]
  },
  {
   "cell_type": "code",
   "execution_count": 179,
   "id": "a516ffa6",
   "metadata": {},
   "outputs": [
    {
     "data": {
      "text/html": [
       "<div>\n",
       "<style scoped>\n",
       "    .dataframe tbody tr th:only-of-type {\n",
       "        vertical-align: middle;\n",
       "    }\n",
       "\n",
       "    .dataframe tbody tr th {\n",
       "        vertical-align: top;\n",
       "    }\n",
       "\n",
       "    .dataframe thead th {\n",
       "        text-align: right;\n",
       "    }\n",
       "</style>\n",
       "<table border=\"1\" class=\"dataframe\">\n",
       "  <thead>\n",
       "    <tr style=\"text-align: right;\">\n",
       "      <th></th>\n",
       "      <th>0</th>\n",
       "      <th>1</th>\n",
       "      <th>2</th>\n",
       "      <th>3</th>\n",
       "      <th>4</th>\n",
       "      <th>5</th>\n",
       "      <th>6</th>\n",
       "      <th>7</th>\n",
       "    </tr>\n",
       "  </thead>\n",
       "  <tbody>\n",
       "    <tr>\n",
       "      <th>Proporción de la varianza</th>\n",
       "      <td>0.493681</td>\n",
       "      <td>0.365083</td>\n",
       "      <td>0.093225</td>\n",
       "      <td>0.026164</td>\n",
       "      <td>0.013937</td>\n",
       "      <td>0.005767</td>\n",
       "      <td>0.001515</td>\n",
       "      <td>0.000628</td>\n",
       "    </tr>\n",
       "    <tr>\n",
       "      <th>Propoción acumulada</th>\n",
       "      <td>0.493681</td>\n",
       "      <td>0.858764</td>\n",
       "      <td>0.951989</td>\n",
       "      <td>0.978153</td>\n",
       "      <td>0.992090</td>\n",
       "      <td>0.997857</td>\n",
       "      <td>0.999372</td>\n",
       "      <td>1.000000</td>\n",
       "    </tr>\n",
       "  </tbody>\n",
       "</table>\n",
       "</div>"
      ],
      "text/plain": [
       "                                  0         1         2         3         4  \\\n",
       "Proporción de la varianza  0.493681  0.365083  0.093225  0.026164  0.013937   \n",
       "Propoción acumulada        0.493681  0.858764  0.951989  0.978153  0.992090   \n",
       "\n",
       "                                  5         6         7  \n",
       "Proporción de la varianza  0.005767  0.001515  0.000628  \n",
       "Propoción acumulada        0.997857  0.999372  1.000000  "
      ]
     },
     "execution_count": 179,
     "metadata": {},
     "output_type": "execute_result"
    }
   ],
   "source": [
    "pca_summary_df = pca_summary_df.transpose()\n",
    "pca_summary_df"
   ]
  },
  {
   "cell_type": "code",
   "execution_count": 180,
   "id": "8558bf9f",
   "metadata": {},
   "outputs": [
    {
     "data": {
      "text/html": [
       "<div>\n",
       "<style scoped>\n",
       "    .dataframe tbody tr th:only-of-type {\n",
       "        vertical-align: middle;\n",
       "    }\n",
       "\n",
       "    .dataframe tbody tr th {\n",
       "        vertical-align: top;\n",
       "    }\n",
       "\n",
       "    .dataframe thead th {\n",
       "        text-align: right;\n",
       "    }\n",
       "</style>\n",
       "<table border=\"1\" class=\"dataframe\">\n",
       "  <thead>\n",
       "    <tr style=\"text-align: right;\">\n",
       "      <th></th>\n",
       "      <th>PC1</th>\n",
       "      <th>PC2</th>\n",
       "      <th>PC3</th>\n",
       "      <th>PC4</th>\n",
       "      <th>PC5</th>\n",
       "      <th>PC6</th>\n",
       "      <th>PC7</th>\n",
       "      <th>PC8</th>\n",
       "    </tr>\n",
       "  </thead>\n",
       "  <tbody>\n",
       "    <tr>\n",
       "      <th>Proporción de la varianza</th>\n",
       "      <td>0.493681</td>\n",
       "      <td>0.365083</td>\n",
       "      <td>0.093225</td>\n",
       "      <td>0.026164</td>\n",
       "      <td>0.013937</td>\n",
       "      <td>0.005767</td>\n",
       "      <td>0.001515</td>\n",
       "      <td>0.000628</td>\n",
       "    </tr>\n",
       "    <tr>\n",
       "      <th>Propoción acumulada</th>\n",
       "      <td>0.493681</td>\n",
       "      <td>0.858764</td>\n",
       "      <td>0.951989</td>\n",
       "      <td>0.978153</td>\n",
       "      <td>0.992090</td>\n",
       "      <td>0.997857</td>\n",
       "      <td>0.999372</td>\n",
       "      <td>1.000000</td>\n",
       "    </tr>\n",
       "  </tbody>\n",
       "</table>\n",
       "</div>"
      ],
      "text/plain": [
       "                                PC1       PC2       PC3       PC4       PC5  \\\n",
       "Proporción de la varianza  0.493681  0.365083  0.093225  0.026164  0.013937   \n",
       "Propoción acumulada        0.493681  0.858764  0.951989  0.978153  0.992090   \n",
       "\n",
       "                                PC6       PC7       PC8  \n",
       "Proporción de la varianza  0.005767  0.001515  0.000628  \n",
       "Propoción acumulada        0.997857  0.999372  1.000000  "
      ]
     },
     "execution_count": 180,
     "metadata": {},
     "output_type": "execute_result"
    }
   ],
   "source": [
    "pca_summary_df.columns = [\"PC\" + str(pc) for pc in range(1, len(pca_summary_df.columns) + 1)]\n",
    "pca_summary_df"
   ]
  },
  {
   "cell_type": "code",
   "execution_count": 181,
   "id": "733c3e1b",
   "metadata": {},
   "outputs": [
    {
     "data": {
      "text/html": [
       "<div>\n",
       "<style scoped>\n",
       "    .dataframe tbody tr th:only-of-type {\n",
       "        vertical-align: middle;\n",
       "    }\n",
       "\n",
       "    .dataframe tbody tr th {\n",
       "        vertical-align: top;\n",
       "    }\n",
       "\n",
       "    .dataframe thead th {\n",
       "        text-align: right;\n",
       "    }\n",
       "</style>\n",
       "<table border=\"1\" class=\"dataframe\">\n",
       "  <thead>\n",
       "    <tr style=\"text-align: right;\">\n",
       "      <th></th>\n",
       "      <th>PC1</th>\n",
       "      <th>PC2</th>\n",
       "      <th>PC3</th>\n",
       "      <th>PC4</th>\n",
       "      <th>PC5</th>\n",
       "      <th>PC6</th>\n",
       "      <th>PC7</th>\n",
       "      <th>PC8</th>\n",
       "    </tr>\n",
       "  </thead>\n",
       "  <tbody>\n",
       "    <tr>\n",
       "      <th>Proporción de la varianza</th>\n",
       "      <td>0.493681</td>\n",
       "      <td>0.365083</td>\n",
       "      <td>0.093225</td>\n",
       "      <td>0.026164</td>\n",
       "      <td>0.013937</td>\n",
       "      <td>0.005767</td>\n",
       "      <td>0.001515</td>\n",
       "      <td>0.000628</td>\n",
       "    </tr>\n",
       "    <tr>\n",
       "      <th>Propoción acumulada</th>\n",
       "      <td>0.493681</td>\n",
       "      <td>0.858764</td>\n",
       "      <td>0.951989</td>\n",
       "      <td>0.978153</td>\n",
       "      <td>0.992090</td>\n",
       "      <td>0.997857</td>\n",
       "      <td>0.999372</td>\n",
       "      <td>1.000000</td>\n",
       "    </tr>\n",
       "  </tbody>\n",
       "</table>\n",
       "</div>"
      ],
      "text/plain": [
       "                                PC1       PC2       PC3       PC4       PC5  \\\n",
       "Proporción de la varianza  0.493681  0.365083  0.093225  0.026164  0.013937   \n",
       "Propoción acumulada        0.493681  0.858764  0.951989  0.978153  0.992090   \n",
       "\n",
       "                                PC6       PC7       PC8  \n",
       "Proporción de la varianza  0.005767  0.001515  0.000628  \n",
       "Propoción acumulada        0.997857  0.999372  1.000000  "
      ]
     },
     "execution_count": 181,
     "metadata": {},
     "output_type": "execute_result"
    }
   ],
   "source": [
    "pca_summary_df.columns = [\"PC\" + str(pc) for pc in range(1, len(pca_summary_df.columns) + 1)]\n",
    "pca_summary_df"
   ]
  },
  {
   "cell_type": "code",
   "execution_count": 182,
   "id": "209e0771",
   "metadata": {},
   "outputs": [],
   "source": [
    "pca_components_df = pd.DataFrame(pca.components_.transpose(),\n",
    "                                columns=components,\n",
    "                                index=df1.columns)"
   ]
  },
  {
   "cell_type": "code",
   "execution_count": 185,
   "id": "78fd01d4",
   "metadata": {},
   "outputs": [
    {
     "data": {
      "text/html": [
       "<div>\n",
       "<style scoped>\n",
       "    .dataframe tbody tr th:only-of-type {\n",
       "        vertical-align: middle;\n",
       "    }\n",
       "\n",
       "    .dataframe tbody tr th {\n",
       "        vertical-align: top;\n",
       "    }\n",
       "\n",
       "    .dataframe thead th {\n",
       "        text-align: right;\n",
       "    }\n",
       "</style>\n",
       "<table border=\"1\" class=\"dataframe\">\n",
       "  <thead>\n",
       "    <tr style=\"text-align: right;\">\n",
       "      <th></th>\n",
       "      <th>1</th>\n",
       "      <th>2</th>\n",
       "      <th>3</th>\n",
       "      <th>4</th>\n",
       "      <th>5</th>\n",
       "      <th>6</th>\n",
       "      <th>7</th>\n",
       "      <th>8</th>\n",
       "    </tr>\n",
       "  </thead>\n",
       "  <tbody>\n",
       "    <tr>\n",
       "      <th>rooms_available</th>\n",
       "      <td>0.006196</td>\n",
       "      <td>0.046868</td>\n",
       "      <td>0.130703</td>\n",
       "      <td>0.232761</td>\n",
       "      <td>0.025004</td>\n",
       "      <td>0.905296</td>\n",
       "      <td>0.128958</td>\n",
       "      <td>0.299480</td>\n",
       "    </tr>\n",
       "    <tr>\n",
       "      <th>rooms_occupied</th>\n",
       "      <td>0.130576</td>\n",
       "      <td>0.151499</td>\n",
       "      <td>-0.168661</td>\n",
       "      <td>0.187220</td>\n",
       "      <td>0.651127</td>\n",
       "      <td>0.061267</td>\n",
       "      <td>0.437809</td>\n",
       "      <td>-0.526405</td>\n",
       "    </tr>\n",
       "    <tr>\n",
       "      <th>rooms_revenue</th>\n",
       "      <td>0.153456</td>\n",
       "      <td>0.207027</td>\n",
       "      <td>-0.228850</td>\n",
       "      <td>0.733527</td>\n",
       "      <td>0.104879</td>\n",
       "      <td>-0.118539</td>\n",
       "      <td>-0.557729</td>\n",
       "      <td>0.083927</td>\n",
       "    </tr>\n",
       "    <tr>\n",
       "      <th>compset_rooms_available</th>\n",
       "      <td>0.112340</td>\n",
       "      <td>0.339654</td>\n",
       "      <td>0.902140</td>\n",
       "      <td>0.119172</td>\n",
       "      <td>0.107743</td>\n",
       "      <td>-0.179676</td>\n",
       "      <td>0.000794</td>\n",
       "      <td>-0.008026</td>\n",
       "    </tr>\n",
       "    <tr>\n",
       "      <th>compset_rooms_occupied</th>\n",
       "      <td>0.452369</td>\n",
       "      <td>0.597779</td>\n",
       "      <td>-0.190069</td>\n",
       "      <td>-0.534191</td>\n",
       "      <td>0.089321</td>\n",
       "      <td>0.154536</td>\n",
       "      <td>-0.287577</td>\n",
       "      <td>0.044454</td>\n",
       "    </tr>\n",
       "    <tr>\n",
       "      <th>compset_rooms_revenue</th>\n",
       "      <td>0.254063</td>\n",
       "      <td>0.376054</td>\n",
       "      <td>-0.153329</td>\n",
       "      <td>0.269033</td>\n",
       "      <td>-0.644804</td>\n",
       "      <td>-0.103232</td>\n",
       "      <td>0.517421</td>\n",
       "      <td>-0.063196</td>\n",
       "    </tr>\n",
       "    <tr>\n",
       "      <th>ocr</th>\n",
       "      <td>0.065623</td>\n",
       "      <td>0.060560</td>\n",
       "      <td>-0.130304</td>\n",
       "      <td>0.011447</td>\n",
       "      <td>0.358858</td>\n",
       "      <td>-0.309532</td>\n",
       "      <td>0.360827</td>\n",
       "      <td>0.787484</td>\n",
       "    </tr>\n",
       "    <tr>\n",
       "      <th>hocc</th>\n",
       "      <td>-0.820519</td>\n",
       "      <td>0.560537</td>\n",
       "      <td>-0.107826</td>\n",
       "      <td>-0.025238</td>\n",
       "      <td>0.016464</td>\n",
       "      <td>-0.001704</td>\n",
       "      <td>-0.003031</td>\n",
       "      <td>0.001010</td>\n",
       "    </tr>\n",
       "  </tbody>\n",
       "</table>\n",
       "</div>"
      ],
      "text/plain": [
       "                                1         2         3         4         5  \\\n",
       "rooms_available          0.006196  0.046868  0.130703  0.232761  0.025004   \n",
       "rooms_occupied           0.130576  0.151499 -0.168661  0.187220  0.651127   \n",
       "rooms_revenue            0.153456  0.207027 -0.228850  0.733527  0.104879   \n",
       "compset_rooms_available  0.112340  0.339654  0.902140  0.119172  0.107743   \n",
       "compset_rooms_occupied   0.452369  0.597779 -0.190069 -0.534191  0.089321   \n",
       "compset_rooms_revenue    0.254063  0.376054 -0.153329  0.269033 -0.644804   \n",
       "ocr                      0.065623  0.060560 -0.130304  0.011447  0.358858   \n",
       "hocc                    -0.820519  0.560537 -0.107826 -0.025238  0.016464   \n",
       "\n",
       "                                6         7         8  \n",
       "rooms_available          0.905296  0.128958  0.299480  \n",
       "rooms_occupied           0.061267  0.437809 -0.526405  \n",
       "rooms_revenue           -0.118539 -0.557729  0.083927  \n",
       "compset_rooms_available -0.179676  0.000794 -0.008026  \n",
       "compset_rooms_occupied   0.154536 -0.287577  0.044454  \n",
       "compset_rooms_revenue   -0.103232  0.517421 -0.063196  \n",
       "ocr                     -0.309532  0.360827  0.787484  \n",
       "hocc                    -0.001704 -0.003031  0.001010  "
      ]
     },
     "execution_count": 185,
     "metadata": {},
     "output_type": "execute_result"
    }
   ],
   "source": [
    "pca_components_df"
   ]
  },
  {
   "cell_type": "code",
   "execution_count": 184,
   "id": "601ed4ba",
   "metadata": {},
   "outputs": [
    {
     "data": {
      "image/png": "[encoded data removed]",
      "text/plain": [
       "<Figure size 432x288 with 1 Axes>"
      ]
     },
     "metadata": {
      "needs_background": "light"
     },
     "output_type": "display_data"
    }
   ],
   "source": [
    "sns.barplot(x=components, y=variance, color=\"b\")\n",
    "\n",
    "plt.show()"
   ]
  },
  {
   "cell_type": "markdown",
   "id": "51884782",
   "metadata": {},
   "source": [
    "Quitamos variables las cuales no tienen peso en el PCA"
   ]
  },
  {
   "cell_type": "code",
   "execution_count": 203,
   "id": "5115e753",
   "metadata": {},
   "outputs": [
    {
     "data": {
      "text/html": [
       "<div>\n",
       "<style scoped>\n",
       "    .dataframe tbody tr th:only-of-type {\n",
       "        vertical-align: middle;\n",
       "    }\n",
       "\n",
       "    .dataframe tbody tr th {\n",
       "        vertical-align: top;\n",
       "    }\n",
       "\n",
       "    .dataframe thead th {\n",
       "        text-align: right;\n",
       "    }\n",
       "</style>\n",
       "<table border=\"1\" class=\"dataframe\">\n",
       "  <thead>\n",
       "    <tr style=\"text-align: right;\">\n",
       "      <th></th>\n",
       "      <th>rooms_available</th>\n",
       "      <th>rooms_occupied</th>\n",
       "      <th>rooms_revenue</th>\n",
       "      <th>compset_rooms_available</th>\n",
       "      <th>compset_rooms_occupied</th>\n",
       "      <th>compset_rooms_revenue</th>\n",
       "      <th>ocr</th>\n",
       "      <th>hocc</th>\n",
       "    </tr>\n",
       "  </thead>\n",
       "  <tbody>\n",
       "    <tr>\n",
       "      <th>0</th>\n",
       "      <td>0.082543</td>\n",
       "      <td>0.000000</td>\n",
       "      <td>0.057316</td>\n",
       "      <td>0.028317</td>\n",
       "      <td>0.000000</td>\n",
       "      <td>0.001047</td>\n",
       "      <td>0.000000</td>\n",
       "      <td>1.000000</td>\n",
       "    </tr>\n",
       "    <tr>\n",
       "      <th>1</th>\n",
       "      <td>0.103179</td>\n",
       "      <td>0.000000</td>\n",
       "      <td>0.057316</td>\n",
       "      <td>0.282767</td>\n",
       "      <td>0.046888</td>\n",
       "      <td>0.018323</td>\n",
       "      <td>0.000000</td>\n",
       "      <td>1.000000</td>\n",
       "    </tr>\n",
       "    <tr>\n",
       "      <th>2</th>\n",
       "      <td>0.082543</td>\n",
       "      <td>0.000000</td>\n",
       "      <td>0.057316</td>\n",
       "      <td>0.028317</td>\n",
       "      <td>0.000000</td>\n",
       "      <td>0.001047</td>\n",
       "      <td>0.000000</td>\n",
       "      <td>1.000000</td>\n",
       "    </tr>\n",
       "    <tr>\n",
       "      <th>3</th>\n",
       "      <td>0.103179</td>\n",
       "      <td>0.000000</td>\n",
       "      <td>0.057316</td>\n",
       "      <td>0.282767</td>\n",
       "      <td>0.071948</td>\n",
       "      <td>0.025798</td>\n",
       "      <td>0.000000</td>\n",
       "      <td>1.000000</td>\n",
       "    </tr>\n",
       "    <tr>\n",
       "      <th>4</th>\n",
       "      <td>0.082543</td>\n",
       "      <td>0.001064</td>\n",
       "      <td>0.060448</td>\n",
       "      <td>0.028317</td>\n",
       "      <td>0.000808</td>\n",
       "      <td>0.002231</td>\n",
       "      <td>0.000611</td>\n",
       "      <td>0.162075</td>\n",
       "    </tr>\n",
       "  </tbody>\n",
       "</table>\n",
       "</div>"
      ],
      "text/plain": [
       "   rooms_available  rooms_occupied  rooms_revenue  compset_rooms_available  \\\n",
       "0         0.082543        0.000000       0.057316                 0.028317   \n",
       "1         0.103179        0.000000       0.057316                 0.282767   \n",
       "2         0.082543        0.000000       0.057316                 0.028317   \n",
       "3         0.103179        0.000000       0.057316                 0.282767   \n",
       "4         0.082543        0.001064       0.060448                 0.028317   \n",
       "\n",
       "   compset_rooms_occupied  compset_rooms_revenue       ocr      hocc  \n",
       "0                0.000000               0.001047  0.000000  1.000000  \n",
       "1                0.046888               0.018323  0.000000  1.000000  \n",
       "2                0.000000               0.001047  0.000000  1.000000  \n",
       "3                0.071948               0.025798  0.000000  1.000000  \n",
       "4                0.000808               0.002231  0.000611  0.162075  "
      ]
     },
     "execution_count": 203,
     "metadata": {},
     "output_type": "execute_result"
    }
   ],
   "source": [
    "df_scale.head()"
   ]
  },
  {
   "cell_type": "code",
   "execution_count": 220,
   "id": "f9d7450e",
   "metadata": {},
   "outputs": [
    {
     "data": {
      "text/html": [
       "<div>\n",
       "<style scoped>\n",
       "    .dataframe tbody tr th:only-of-type {\n",
       "        vertical-align: middle;\n",
       "    }\n",
       "\n",
       "    .dataframe tbody tr th {\n",
       "        vertical-align: top;\n",
       "    }\n",
       "\n",
       "    .dataframe thead th {\n",
       "        text-align: right;\n",
       "    }\n",
       "</style>\n",
       "<table border=\"1\" class=\"dataframe\">\n",
       "  <thead>\n",
       "    <tr style=\"text-align: right;\">\n",
       "      <th></th>\n",
       "      <th>compset_rooms_occupied</th>\n",
       "      <th>compset_rooms_available</th>\n",
       "      <th>hocc</th>\n",
       "    </tr>\n",
       "  </thead>\n",
       "  <tbody>\n",
       "    <tr>\n",
       "      <th>0</th>\n",
       "      <td>0.000000</td>\n",
       "      <td>0.028317</td>\n",
       "      <td>1.000000</td>\n",
       "    </tr>\n",
       "    <tr>\n",
       "      <th>1</th>\n",
       "      <td>0.046888</td>\n",
       "      <td>0.282767</td>\n",
       "      <td>1.000000</td>\n",
       "    </tr>\n",
       "    <tr>\n",
       "      <th>2</th>\n",
       "      <td>0.000000</td>\n",
       "      <td>0.028317</td>\n",
       "      <td>1.000000</td>\n",
       "    </tr>\n",
       "    <tr>\n",
       "      <th>3</th>\n",
       "      <td>0.071948</td>\n",
       "      <td>0.282767</td>\n",
       "      <td>1.000000</td>\n",
       "    </tr>\n",
       "    <tr>\n",
       "      <th>4</th>\n",
       "      <td>0.000808</td>\n",
       "      <td>0.028317</td>\n",
       "      <td>0.162075</td>\n",
       "    </tr>\n",
       "    <tr>\n",
       "      <th>...</th>\n",
       "      <td>...</td>\n",
       "      <td>...</td>\n",
       "      <td>...</td>\n",
       "    </tr>\n",
       "    <tr>\n",
       "      <th>26495</th>\n",
       "      <td>0.205335</td>\n",
       "      <td>0.205502</td>\n",
       "      <td>0.003519</td>\n",
       "    </tr>\n",
       "    <tr>\n",
       "      <th>26496</th>\n",
       "      <td>0.285368</td>\n",
       "      <td>0.290453</td>\n",
       "      <td>0.003519</td>\n",
       "    </tr>\n",
       "    <tr>\n",
       "      <th>26497</th>\n",
       "      <td>0.217462</td>\n",
       "      <td>0.216828</td>\n",
       "      <td>0.001307</td>\n",
       "    </tr>\n",
       "    <tr>\n",
       "      <th>26498</th>\n",
       "      <td>0.238480</td>\n",
       "      <td>0.205502</td>\n",
       "      <td>0.001307</td>\n",
       "    </tr>\n",
       "    <tr>\n",
       "      <th>26499</th>\n",
       "      <td>0.320129</td>\n",
       "      <td>0.290453</td>\n",
       "      <td>0.001307</td>\n",
       "    </tr>\n",
       "  </tbody>\n",
       "</table>\n",
       "<p>26500 rows × 3 columns</p>\n",
       "</div>"
      ],
      "text/plain": [
       "       compset_rooms_occupied  compset_rooms_available      hocc\n",
       "0                    0.000000                 0.028317  1.000000\n",
       "1                    0.046888                 0.282767  1.000000\n",
       "2                    0.000000                 0.028317  1.000000\n",
       "3                    0.071948                 0.282767  1.000000\n",
       "4                    0.000808                 0.028317  0.162075\n",
       "...                       ...                      ...       ...\n",
       "26495                0.205335                 0.205502  0.003519\n",
       "26496                0.285368                 0.290453  0.003519\n",
       "26497                0.217462                 0.216828  0.001307\n",
       "26498                0.238480                 0.205502  0.001307\n",
       "26499                0.320129                 0.290453  0.001307\n",
       "\n",
       "[26500 rows x 3 columns]"
      ]
     },
     "execution_count": 220,
     "metadata": {},
     "output_type": "execute_result"
    }
   ],
   "source": [
    "dfscale1=df_scale.iloc[:,[4,3,7]]\n",
    "dfscale1"
   ]
  },
  {
   "cell_type": "markdown",
   "id": "031ca184",
   "metadata": {},
   "source": [
    "Volvemos a aplicar PCA"
   ]
  },
  {
   "cell_type": "code",
   "execution_count": 221,
   "id": "a533bd7e",
   "metadata": {},
   "outputs": [
    {
     "data": {
      "text/plain": [
       "PCA()"
      ]
     },
     "execution_count": 221,
     "metadata": {},
     "output_type": "execute_result"
    }
   ],
   "source": [
    "pca.fit(dfscale1)"
   ]
  },
  {
   "cell_type": "code",
   "execution_count": 222,
   "id": "66042d79",
   "metadata": {},
   "outputs": [
    {
     "data": {
      "text/plain": [
       "array([0.04204606, 0.02475791, 0.00714298])"
      ]
     },
     "execution_count": 222,
     "metadata": {},
     "output_type": "execute_result"
    }
   ],
   "source": [
    "pca.explained_variance_"
   ]
  },
  {
   "cell_type": "code",
   "execution_count": 223,
   "id": "8d8b7a37",
   "metadata": {},
   "outputs": [
    {
     "data": {
      "text/plain": [
       "array([0.56859765, 0.33480636, 0.09659599])"
      ]
     },
     "execution_count": 223,
     "metadata": {},
     "output_type": "execute_result"
    }
   ],
   "source": [
    "pca.explained_variance_ratio_"
   ]
  },
  {
   "cell_type": "code",
   "execution_count": 224,
   "id": "9a0ae614",
   "metadata": {},
   "outputs": [],
   "source": [
    "components = np.arange(pca.n_components_) + 1\n",
    "variance = pca.explained_variance_ratio_"
   ]
  },
  {
   "cell_type": "code",
   "execution_count": 225,
   "id": "21a7269b",
   "metadata": {},
   "outputs": [
    {
     "data": {
      "text/html": [
       "<div>\n",
       "<style scoped>\n",
       "    .dataframe tbody tr th:only-of-type {\n",
       "        vertical-align: middle;\n",
       "    }\n",
       "\n",
       "    .dataframe tbody tr th {\n",
       "        vertical-align: top;\n",
       "    }\n",
       "\n",
       "    .dataframe thead th {\n",
       "        text-align: right;\n",
       "    }\n",
       "</style>\n",
       "<table border=\"1\" class=\"dataframe\">\n",
       "  <thead>\n",
       "    <tr style=\"text-align: right;\">\n",
       "      <th></th>\n",
       "      <th>Proporción de la varianza</th>\n",
       "      <th>Propoción acumulada</th>\n",
       "    </tr>\n",
       "  </thead>\n",
       "  <tbody>\n",
       "    <tr>\n",
       "      <th>0</th>\n",
       "      <td>0.568598</td>\n",
       "      <td>0.568598</td>\n",
       "    </tr>\n",
       "    <tr>\n",
       "      <th>1</th>\n",
       "      <td>0.334806</td>\n",
       "      <td>0.903404</td>\n",
       "    </tr>\n",
       "    <tr>\n",
       "      <th>2</th>\n",
       "      <td>0.096596</td>\n",
       "      <td>1.000000</td>\n",
       "    </tr>\n",
       "  </tbody>\n",
       "</table>\n",
       "</div>"
      ],
      "text/plain": [
       "   Proporción de la varianza  Propoción acumulada\n",
       "0                   0.568598             0.568598\n",
       "1                   0.334806             0.903404\n",
       "2                   0.096596             1.000000"
      ]
     },
     "execution_count": 225,
     "metadata": {},
     "output_type": "execute_result"
    }
   ],
   "source": [
    "pca_summary_df = pd.DataFrame({\"Proporción de la varianza\": pca.explained_variance_ratio_, \"Propoción acumulada\":np.cumsum(pca.explained_variance_ratio_)})\n",
    "pca_summary_df"
   ]
  },
  {
   "cell_type": "code",
   "execution_count": 226,
   "id": "a3d4cc85",
   "metadata": {},
   "outputs": [
    {
     "data": {
      "text/html": [
       "<div>\n",
       "<style scoped>\n",
       "    .dataframe tbody tr th:only-of-type {\n",
       "        vertical-align: middle;\n",
       "    }\n",
       "\n",
       "    .dataframe tbody tr th {\n",
       "        vertical-align: top;\n",
       "    }\n",
       "\n",
       "    .dataframe thead th {\n",
       "        text-align: right;\n",
       "    }\n",
       "</style>\n",
       "<table border=\"1\" class=\"dataframe\">\n",
       "  <thead>\n",
       "    <tr style=\"text-align: right;\">\n",
       "      <th></th>\n",
       "      <th>0</th>\n",
       "      <th>1</th>\n",
       "      <th>2</th>\n",
       "    </tr>\n",
       "  </thead>\n",
       "  <tbody>\n",
       "    <tr>\n",
       "      <th>Proporción de la varianza</th>\n",
       "      <td>0.568598</td>\n",
       "      <td>0.334806</td>\n",
       "      <td>0.096596</td>\n",
       "    </tr>\n",
       "    <tr>\n",
       "      <th>Propoción acumulada</th>\n",
       "      <td>0.568598</td>\n",
       "      <td>0.903404</td>\n",
       "      <td>1.000000</td>\n",
       "    </tr>\n",
       "  </tbody>\n",
       "</table>\n",
       "</div>"
      ],
      "text/plain": [
       "                                  0         1         2\n",
       "Proporción de la varianza  0.568598  0.334806  0.096596\n",
       "Propoción acumulada        0.568598  0.903404  1.000000"
      ]
     },
     "execution_count": 226,
     "metadata": {},
     "output_type": "execute_result"
    }
   ],
   "source": [
    "pca_summary_df = pca_summary_df.transpose()\n",
    "pca_summary_df"
   ]
  },
  {
   "cell_type": "code",
   "execution_count": 227,
   "id": "e2599a83",
   "metadata": {},
   "outputs": [
    {
     "data": {
      "text/html": [
       "<div>\n",
       "<style scoped>\n",
       "    .dataframe tbody tr th:only-of-type {\n",
       "        vertical-align: middle;\n",
       "    }\n",
       "\n",
       "    .dataframe tbody tr th {\n",
       "        vertical-align: top;\n",
       "    }\n",
       "\n",
       "    .dataframe thead th {\n",
       "        text-align: right;\n",
       "    }\n",
       "</style>\n",
       "<table border=\"1\" class=\"dataframe\">\n",
       "  <thead>\n",
       "    <tr style=\"text-align: right;\">\n",
       "      <th></th>\n",
       "      <th>PC1</th>\n",
       "      <th>PC2</th>\n",
       "      <th>PC3</th>\n",
       "    </tr>\n",
       "  </thead>\n",
       "  <tbody>\n",
       "    <tr>\n",
       "      <th>Proporción de la varianza</th>\n",
       "      <td>0.568598</td>\n",
       "      <td>0.334806</td>\n",
       "      <td>0.096596</td>\n",
       "    </tr>\n",
       "    <tr>\n",
       "      <th>Propoción acumulada</th>\n",
       "      <td>0.568598</td>\n",
       "      <td>0.903404</td>\n",
       "      <td>1.000000</td>\n",
       "    </tr>\n",
       "  </tbody>\n",
       "</table>\n",
       "</div>"
      ],
      "text/plain": [
       "                                PC1       PC2       PC3\n",
       "Proporción de la varianza  0.568598  0.334806  0.096596\n",
       "Propoción acumulada        0.568598  0.903404  1.000000"
      ]
     },
     "execution_count": 227,
     "metadata": {},
     "output_type": "execute_result"
    }
   ],
   "source": [
    "pca_summary_df.columns = [\"PC\" + str(pc) for pc in range(1, len(pca_summary_df.columns) + 1)]\n",
    "pca_summary_df"
   ]
  },
  {
   "cell_type": "code",
   "execution_count": 228,
   "id": "d9c73cef",
   "metadata": {},
   "outputs": [],
   "source": [
    "pca_components_df = pd.DataFrame(pca.components_.transpose(),\n",
    "                                columns=components,\n",
    "                                index=dfscale1.columns)"
   ]
  },
  {
   "cell_type": "code",
   "execution_count": 229,
   "id": "cd0a3086",
   "metadata": {},
   "outputs": [
    {
     "data": {
      "text/html": [
       "<div>\n",
       "<style scoped>\n",
       "    .dataframe tbody tr th:only-of-type {\n",
       "        vertical-align: middle;\n",
       "    }\n",
       "\n",
       "    .dataframe tbody tr th {\n",
       "        vertical-align: top;\n",
       "    }\n",
       "\n",
       "    .dataframe thead th {\n",
       "        text-align: right;\n",
       "    }\n",
       "</style>\n",
       "<table border=\"1\" class=\"dataframe\">\n",
       "  <thead>\n",
       "    <tr style=\"text-align: right;\">\n",
       "      <th></th>\n",
       "      <th>1</th>\n",
       "      <th>2</th>\n",
       "      <th>3</th>\n",
       "    </tr>\n",
       "  </thead>\n",
       "  <tbody>\n",
       "    <tr>\n",
       "      <th>compset_rooms_occupied</th>\n",
       "      <td>-0.263400</td>\n",
       "      <td>0.840152</td>\n",
       "      <td>-0.474094</td>\n",
       "    </tr>\n",
       "    <tr>\n",
       "      <th>compset_rooms_available</th>\n",
       "      <td>-0.021020</td>\n",
       "      <td>0.486334</td>\n",
       "      <td>0.873520</td>\n",
       "    </tr>\n",
       "    <tr>\n",
       "      <th>hocc</th>\n",
       "      <td>0.964458</td>\n",
       "      <td>0.240051</td>\n",
       "      <td>-0.110440</td>\n",
       "    </tr>\n",
       "  </tbody>\n",
       "</table>\n",
       "</div>"
      ],
      "text/plain": [
       "                                1         2         3\n",
       "compset_rooms_occupied  -0.263400  0.840152 -0.474094\n",
       "compset_rooms_available -0.021020  0.486334  0.873520\n",
       "hocc                     0.964458  0.240051 -0.110440"
      ]
     },
     "execution_count": 229,
     "metadata": {},
     "output_type": "execute_result"
    }
   ],
   "source": [
    "pca_components_df "
   ]
  },
  {
   "cell_type": "code",
   "execution_count": 201,
   "id": "4180872d",
   "metadata": {},
   "outputs": [
    {
     "data": {
      "text/plain": [
       "<AxesSubplot:xlabel='hocc', ylabel='compset_rooms_occupied'>"
      ]
     },
     "execution_count": 201,
     "metadata": {},
     "output_type": "execute_result"
    },
    {
     "data": {
      "image/png": "[encoded data removed]",
      "text/plain": [
       "<Figure size 432x288 with 1 Axes>"
      ]
     },
     "metadata": {
      "needs_background": "light"
     },
     "output_type": "display_data"
    }
   ],
   "source": [
    "sns.scatterplot(x='hocc', y= 'compset_rooms_occupied' ,hue = 'compset_rooms_available',data=df1)"
   ]
  },
  {
   "cell_type": "code",
   "execution_count": 202,
   "id": "9ed709ed",
   "metadata": {},
   "outputs": [
    {
     "data": {
      "text/plain": [
       "<AxesSubplot:xlabel='hocc', ylabel='compset_rooms_occupied'>"
      ]
     },
     "execution_count": 202,
     "metadata": {},
     "output_type": "execute_result"
    },
    {
     "data": {
      "image/png": "[encoded data removed]",
      "text/plain": [
       "<Figure size 432x288 with 1 Axes>"
      ]
     },
     "metadata": {
      "needs_background": "light"
     },
     "output_type": "display_data"
    }
   ],
   "source": [
    "sns.scatterplot(x='hocc', y= 'compset_rooms_occupied' ,data=df1)"
   ]
  },
  {
   "cell_type": "code",
   "execution_count": 189,
   "id": "96f97eeb",
   "metadata": {},
   "outputs": [
    {
     "data": {
      "text/html": [
       "<div>\n",
       "<style scoped>\n",
       "    .dataframe tbody tr th:only-of-type {\n",
       "        vertical-align: middle;\n",
       "    }\n",
       "\n",
       "    .dataframe tbody tr th {\n",
       "        vertical-align: top;\n",
       "    }\n",
       "\n",
       "    .dataframe thead th {\n",
       "        text-align: right;\n",
       "    }\n",
       "</style>\n",
       "<table border=\"1\" class=\"dataframe\">\n",
       "  <thead>\n",
       "    <tr style=\"text-align: right;\">\n",
       "      <th></th>\n",
       "      <th>compset_rooms_occupied</th>\n",
       "      <th>hocc</th>\n",
       "    </tr>\n",
       "  </thead>\n",
       "  <tbody>\n",
       "    <tr>\n",
       "      <th>0</th>\n",
       "      <td>0</td>\n",
       "      <td>1.0000</td>\n",
       "    </tr>\n",
       "    <tr>\n",
       "      <th>1</th>\n",
       "      <td>58</td>\n",
       "      <td>1.0000</td>\n",
       "    </tr>\n",
       "    <tr>\n",
       "      <th>2</th>\n",
       "      <td>0</td>\n",
       "      <td>1.0000</td>\n",
       "    </tr>\n",
       "    <tr>\n",
       "      <th>3</th>\n",
       "      <td>89</td>\n",
       "      <td>1.0000</td>\n",
       "    </tr>\n",
       "    <tr>\n",
       "      <th>4</th>\n",
       "      <td>1</td>\n",
       "      <td>0.1666</td>\n",
       "    </tr>\n",
       "  </tbody>\n",
       "</table>\n",
       "</div>"
      ],
      "text/plain": [
       "   compset_rooms_occupied    hocc\n",
       "0                       0  1.0000\n",
       "1                      58  1.0000\n",
       "2                       0  1.0000\n",
       "3                      89  1.0000\n",
       "4                       1  0.1666"
      ]
     },
     "execution_count": 189,
     "metadata": {},
     "output_type": "execute_result"
    }
   ],
   "source": [
    "df2=df1.iloc[:, [4,7]]\n",
    "df2.head()"
   ]
  },
  {
   "cell_type": "code",
   "execution_count": 190,
   "id": "b3ae54df",
   "metadata": {},
   "outputs": [
    {
     "data": {
      "text/plain": [
       "array([2, 2, 2, ..., 0, 0, 3])"
      ]
     },
     "execution_count": 190,
     "metadata": {},
     "output_type": "execute_result"
    }
   ],
   "source": [
    "km.fit_predict(df2)"
   ]
  },
  {
   "cell_type": "code",
   "execution_count": 191,
   "id": "0120f222",
   "metadata": {},
   "outputs": [
    {
     "data": {
      "text/plain": [
       "array([[2.49713247e+02, 3.19451509e-01],\n",
       "       [7.30513778e+02, 2.36471219e-01],\n",
       "       [8.43503779e+01, 3.39476358e-01],\n",
       "       [4.38340042e+02, 2.46439954e-01]])"
      ]
     },
     "execution_count": 191,
     "metadata": {},
     "output_type": "execute_result"
    }
   ],
   "source": [
    "km.cluster_centers_"
   ]
  },
  {
   "cell_type": "code",
   "execution_count": 192,
   "id": "17e6b1c0",
   "metadata": {},
   "outputs": [
    {
     "name": "stderr",
     "output_type": "stream",
     "text": [
      "C:\\Users\\vmhue\\AppData\\Local\\Temp\\ipykernel_8152\\3055667265.py:1: SettingWithCopyWarning: \n",
      "A value is trying to be set on a copy of a slice from a DataFrame.\n",
      "Try using .loc[row_indexer,col_indexer] = value instead\n",
      "\n",
      "See the caveats in the documentation: https://pandas.pydata.org/pandas-docs/stable/user_guide/indexing.html#returning-a-view-versus-a-copy\n",
      "  df2[\"Clusters\"] = km.labels_\n"
     ]
    }
   ],
   "source": [
    "df2[\"Clusters\"] = km.labels_"
   ]
  },
  {
   "cell_type": "code",
   "execution_count": 193,
   "id": "b1896fac",
   "metadata": {},
   "outputs": [
    {
     "data": {
      "text/plain": [
       "Index(['compset_rooms_occupied', 'hocc', 'Clusters'], dtype='object')"
      ]
     },
     "execution_count": 193,
     "metadata": {},
     "output_type": "execute_result"
    }
   ],
   "source": [
    "df2.columns"
   ]
  },
  {
   "cell_type": "code",
   "execution_count": 194,
   "id": "091c08b5",
   "metadata": {},
   "outputs": [],
   "source": [
    "K =range (2,10)\n",
    "inertias =[]\n",
    "for i in K:\n",
    "  kmeans =KMeans(n_clusters=i)\n",
    "  kmeans.fit(df2)\n",
    "  inertias. append(kmeans.inertia_)"
   ]
  },
  {
   "cell_type": "code",
   "execution_count": 195,
   "id": "e0f45b9f",
   "metadata": {},
   "outputs": [
    {
     "data": {
      "image/png": "[encoded data removed]",
      "text/plain": [
       "<Figure size 432x288 with 1 Axes>"
      ]
     },
     "metadata": {
      "needs_background": "light"
     },
     "output_type": "display_data"
    }
   ],
   "source": [
    "plt.plot(K, inertias)\n",
    "plt.xlabel (\"K\")\n",
    "plt.ylabel(\"Suma de las distancias \")\n",
    "plt.show()"
   ]
  },
  {
   "cell_type": "code",
   "execution_count": 196,
   "id": "1d217d62",
   "metadata": {},
   "outputs": [],
   "source": [
    "km = KMeans(n_clusters=4)"
   ]
  },
  {
   "cell_type": "code",
   "execution_count": 197,
   "id": "38f2b4e8",
   "metadata": {},
   "outputs": [
    {
     "data": {
      "text/plain": [
       "array([3, 3, 3, ..., 1, 1, 2])"
      ]
     },
     "execution_count": 197,
     "metadata": {},
     "output_type": "execute_result"
    }
   ],
   "source": [
    "km.fit_predict(df2)"
   ]
  },
  {
   "cell_type": "code",
   "execution_count": 198,
   "id": "c0d77a0c",
   "metadata": {},
   "outputs": [
    {
     "data": {
      "text/plain": [
       "array([[7.29360875e+02, 2.36488457e-01, 1.00729040e+00],\n",
       "       [2.48490378e+02, 3.20019690e-01, 2.29822161e-02],\n",
       "       [4.37498255e+02, 2.46302390e-01, 2.98377530e+00],\n",
       "       [8.31096859e+01, 3.39409962e-01, 2.00000000e+00]])"
      ]
     },
     "execution_count": 198,
     "metadata": {},
     "output_type": "execute_result"
    }
   ],
   "source": [
    "km.cluster_centers_"
   ]
  },
  {
   "cell_type": "code",
   "execution_count": 199,
   "id": "12ff28e1",
   "metadata": {},
   "outputs": [
    {
     "name": "stderr",
     "output_type": "stream",
     "text": [
      "C:\\Users\\vmhue\\AppData\\Local\\Temp\\ipykernel_8152\\3055667265.py:1: SettingWithCopyWarning: \n",
      "A value is trying to be set on a copy of a slice from a DataFrame.\n",
      "Try using .loc[row_indexer,col_indexer] = value instead\n",
      "\n",
      "See the caveats in the documentation: https://pandas.pydata.org/pandas-docs/stable/user_guide/indexing.html#returning-a-view-versus-a-copy\n",
      "  df2[\"Clusters\"] = km.labels_\n"
     ]
    }
   ],
   "source": [
    "df2[\"Clusters\"] = km.labels_"
   ]
  },
  {
   "cell_type": "code",
   "execution_count": 200,
   "id": "fb71a8b5",
   "metadata": {},
   "outputs": [
    {
     "data": {
      "text/plain": [
       "<AxesSubplot:xlabel='compset_rooms_occupied', ylabel='hocc'>"
      ]
     },
     "execution_count": 200,
     "metadata": {},
     "output_type": "execute_result"
    },
    {
     "data": {
      "image/png": "[encoded data removed]",
      "text/plain": [
       "<Figure size 432x288 with 1 Axes>"
      ]
     },
     "metadata": {
      "needs_background": "light"
     },
     "output_type": "display_data"
    }
   ],
   "source": [
    "sns.scatterplot(x='compset_rooms_occupied', y= 'hocc',hue= 'Clusters',data=df2,palette=\"viridis\",)"
   ]
  },
  {
   "cell_type": "markdown",
   "id": "f9c6cce3",
   "metadata": {},
   "source": [
    "Podemos ver gracias a los clusters que la ocupacion hotelera afecta a los cuartos ocupados"
   ]
  }
 ],
 "metadata": {
  "kernelspec": {
   "display_name": "Python 3 (ipykernel)",
   "language": "python",
   "name": "python3"
  },
  "language_info": {
   "codemirror_mode": {
    "name": "ipython",
    "version": 3
   },
   "file_extension": ".py",
   "mimetype": "text/x-python",
   "name": "python",
   "nbconvert_exporter": "python",
   "pygments_lexer": "ipython3",
   "version": "3.9.12"
  }
 },
 "nbformat": 4,
 "nbformat_minor": 5
}
